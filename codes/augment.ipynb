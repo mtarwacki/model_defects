{
 "cells": [
  {
   "cell_type": "code",
   "execution_count": 1,
   "id": "fb322f01-69aa-45a2-b0ef-11f2d745ae3c",
   "metadata": {},
   "outputs": [],
   "source": [
    "import os\n",
    "import cv2"
   ]
  },
  {
   "cell_type": "code",
   "execution_count": 2,
   "id": "f52455f5-f034-4266-b210-414e17004f88",
   "metadata": {},
   "outputs": [],
   "source": [
    "def flip_and_save_image(image_path, output_dir):\n",
    "    image = cv2.imread(image_path)\n",
    "    flipped_image = cv2.flip(image, 1)\n",
    "    file_name = os.path.basename(image_path)\n",
    "    new_file_name = os.path.splitext(file_name)[0] + \"_fliplr\" + os.path.splitext(file_name)[1]\n",
    "    output_path = os.path.join(output_dir, new_file_name)\n",
    "    cv2.imwrite(output_path, flipped_image)\n",
    "\n",
    "\n",
    "def flipud_and_save_image(image_path, output_dir):\n",
    "    image = cv2.imread(image_path)\n",
    "    flipped_image = cv2.flip(image, 0)\n",
    "    file_name = os.path.basename(image_path)\n",
    "    new_file_name = os.path.splitext(file_name)[0] + \"_flipud\" + os.path.splitext(file_name)[1]\n",
    "    output_path = os.path.join(output_dir, new_file_name)\n",
    "    cv2.imwrite(output_path, flipped_image)\n",
    "\n"
   ]
  },
  {
   "cell_type": "code",
   "execution_count": 3,
   "id": "8bcc97bd-ccfe-4ba3-aade-1996fd99a683",
   "metadata": {},
   "outputs": [],
   "source": [
    "def process_labels(labels_file, output_dir):\n",
    "    with open(labels_file, 'r') as file:\n",
    "        lines = file.readlines()\n",
    "\n",
    "    file_name = os.path.basename(labels_file)\n",
    "    new_file_name = os.path.splitext(file_name)[0] + \"_fliplr\" + os.path.splitext(file_name)[1]\n",
    "    output_path = os.path.join(output_dir, new_file_name)\n",
    "\n",
    "    with open(output_path, 'w') as file:\n",
    "        for line in lines:\n",
    "            values = line.strip().split()\n",
    "            new_values = [values[0]]  \n",
    "            new_values.append(str(1 - float(values[1])))  \n",
    "            new_values.extend(values[2:])  \n",
    "            new_line = ' '.join(new_values)\n",
    "            file.write(new_line + '\\n')\n",
    "\n",
    "\n",
    "def process_labels_ud(labels_file, output_dir):\n",
    "    with open(labels_file, 'r') as file:\n",
    "        lines = file.readlines()\n",
    "\n",
    "    file_name = os.path.basename(labels_file)\n",
    "    new_file_name = os.path.splitext(file_name)[0] + \"_flipud\" + os.path.splitext(file_name)[1]\n",
    "    output_path = os.path.join(output_dir, new_file_name)\n",
    "\n",
    "    with open(output_path, 'w') as file:\n",
    "        for line in lines:\n",
    "            values = line.strip().split()\n",
    "            new_values = [values[0], values[1]]  \n",
    "            new_values.append(str(1 - float(values[2])))  \n",
    "            new_values.extend(values[3:])  \n",
    "            new_line = ' '.join(new_values)\n",
    "            file.write(new_line + '\\n')"
   ]
  },
  {
   "cell_type": "code",
   "execution_count": 4,
   "id": "b9dbdde5-8bd4-4588-a8e2-557f1aba1510",
   "metadata": {},
   "outputs": [],
   "source": [
    "images_dir = \"train/images\"\n",
    "\n",
    "labels_dir = \"train/labels\""
   ]
  },
  {
   "cell_type": "code",
   "execution_count": 5,
   "id": "1f2cb7cc-b65c-4802-ac81-92baf0092538",
   "metadata": {},
   "outputs": [],
   "source": [
    "for file_name in os.listdir(images_dir):\n",
    "        if file_name.endswith(\".jpg\"):  \n",
    "            image_path = os.path.join(images_dir, file_name)\n",
    "            flip_and_save_image(image_path, images_dir)\n",
    "            flipud_and_save_image(image_path, images_dir)\n",
    "            \n",
    "for file_name in os.listdir(labels_dir):\n",
    "        if file_name.endswith(\".txt\"):\n",
    "            labels_file = os.path.join(labels_dir, file_name)\n",
    "            process_labels(labels_file, labels_dir)\n",
    "            process_labels_ud(labels_file, labels_dir)"
   ]
  },
  {
   "cell_type": "code",
   "execution_count": 18,
   "id": "4df7ea1c-54d1-4ad1-855d-3edbef81a481",
   "metadata": {},
   "outputs": [
    {
     "ename": "error",
     "evalue": "OpenCV(4.8.1) D:\\a\\opencv-python\\opencv-python\\opencv\\modules\\imgcodecs\\src\\loadsave.cpp:787: error: (-215:Assertion failed) !_img.empty() in function 'cv::imwrite'\n",
     "output_type": "error",
     "traceback": [
      "\u001b[1;31m---------------------------------------------------------------------------\u001b[0m",
      "\u001b[1;31merror\u001b[0m                                     Traceback (most recent call last)",
      "Cell \u001b[1;32mIn[18], line 1\u001b[0m\n\u001b[1;32m----> 1\u001b[0m \u001b[43mflip_and_save_image\u001b[49m\u001b[43m(\u001b[49m\u001b[43mimages_dir\u001b[49m\u001b[43m,\u001b[49m\u001b[43m \u001b[49m\u001b[43mimages_dir\u001b[49m\u001b[43m)\u001b[49m\n\u001b[0;32m      2\u001b[0m process_labels(labels_dir, labels_dir)\n\u001b[0;32m      3\u001b[0m flipud_and_save_image(images_dir, images_dir)\n",
      "Cell \u001b[1;32mIn[14], line 7\u001b[0m, in \u001b[0;36mflip_and_save_image\u001b[1;34m(image_path, output_dir)\u001b[0m\n\u001b[0;32m      5\u001b[0m new_file_name \u001b[38;5;241m=\u001b[39m os\u001b[38;5;241m.\u001b[39mpath\u001b[38;5;241m.\u001b[39msplitext(file_name)[\u001b[38;5;241m0\u001b[39m] \u001b[38;5;241m+\u001b[39m \u001b[38;5;124m\"\u001b[39m\u001b[38;5;124m_fliplr\u001b[39m\u001b[38;5;124m\"\u001b[39m \u001b[38;5;241m+\u001b[39m os\u001b[38;5;241m.\u001b[39mpath\u001b[38;5;241m.\u001b[39msplitext(file_name)[\u001b[38;5;241m1\u001b[39m]\n\u001b[0;32m      6\u001b[0m output_path \u001b[38;5;241m=\u001b[39m os\u001b[38;5;241m.\u001b[39mpath\u001b[38;5;241m.\u001b[39mjoin(output_dir, new_file_name)\n\u001b[1;32m----> 7\u001b[0m \u001b[43mcv2\u001b[49m\u001b[38;5;241;43m.\u001b[39;49m\u001b[43mimwrite\u001b[49m\u001b[43m(\u001b[49m\u001b[43moutput_path\u001b[49m\u001b[43m,\u001b[49m\u001b[43m \u001b[49m\u001b[43mflipped_image\u001b[49m\u001b[43m)\u001b[49m\n",
      "\u001b[1;31merror\u001b[0m: OpenCV(4.8.1) D:\\a\\opencv-python\\opencv-python\\opencv\\modules\\imgcodecs\\src\\loadsave.cpp:787: error: (-215:Assertion failed) !_img.empty() in function 'cv::imwrite'\n"
     ]
    }
   ],
   "source": [
    "flip_and_save_image(images_dir, images_dir)\n",
    "process_labels(labels_dir, labels_dir)\n",
    "flipud_and_save_image(images_dir, images_dir)\n",
    "process_labels_ud(labels_dir, labels_dir)"
   ]
  },
  {
   "cell_type": "code",
   "execution_count": null,
   "id": "b377afea-072d-407c-a5f2-dfeea33f923e",
   "metadata": {},
   "outputs": [],
   "source": []
  },
  {
   "cell_type": "code",
   "execution_count": null,
   "id": "0eed3a39-6f2a-4a23-8efa-23b90b7169f7",
   "metadata": {},
   "outputs": [],
   "source": []
  },
  {
   "cell_type": "code",
   "execution_count": null,
   "id": "4bb84444-419a-4206-8ae7-1fc24a1075ae",
   "metadata": {},
   "outputs": [],
   "source": []
  }
 ],
 "metadata": {
  "kernelspec": {
   "display_name": "Python 3 (ipykernel)",
   "language": "python",
   "name": "python3"
  },
  "language_info": {
   "codemirror_mode": {
    "name": "ipython",
    "version": 3
   },
   "file_extension": ".py",
   "mimetype": "text/x-python",
   "name": "python",
   "nbconvert_exporter": "python",
   "pygments_lexer": "ipython3",
   "version": "3.10.13"
  }
 },
 "nbformat": 4,
 "nbformat_minor": 5
}
