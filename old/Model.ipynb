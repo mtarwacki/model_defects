{
 "cells": [
  {
   "cell_type": "markdown",
   "id": "f6c99885",
   "metadata": {},
   "source": [
    "# Imports"
   ]
  },
  {
   "cell_type": "code",
   "execution_count": 1,
   "id": "86baaefa",
   "metadata": {},
   "outputs": [],
   "source": [
    "import pandas as pd\n",
    "import numpy as np\n",
    "import os \n",
    "import xml.etree.ElementTree as ET\n",
    "from lxml import objectify\n",
    "import collections\n",
    "\n",
    "import tensorflow as tf\n",
    "from tensorflow import keras\n",
    "from tensorflow.keras.models import Sequential, load_model\n",
    "from tensorflow.keras.layers import Dense, Conv2D, MaxPooling2D, Dense, Flatten, Dropout\n",
    "from keras import layers\n",
    "from keras import models\n",
    "from keras.utils import to_categorical\n",
    "from tensorflow.keras.optimizers import Adam\n",
    "from tensorflow.keras.preprocessing.image import ImageDataGenerator\n",
    "\n",
    "from sklearn.model_selection import train_test_split\n",
    "from sklearn.model_selection import GridSearchCV\n",
    "from sklearn.svm import SVC\n",
    "from sklearn.metrics import accuracy_score, confusion_matrix, multilabel_confusion_matrix, ConfusionMatrixDisplay\n",
    "from sklearn.utils.class_weight import compute_class_weight\n",
    "from sklearn.utils import class_weight\n",
    "\n",
    "from glob import glob\n",
    "\n",
    "import cv2\n",
    "import matplotlib.pylab as plt\n",
    "\n"
   ]
  },
  {
   "cell_type": "markdown",
   "id": "ad511ca5",
   "metadata": {},
   "source": [
    "# To Avoid errors\n"
   ]
  },
  {
   "cell_type": "code",
   "execution_count": 2,
   "id": "276ac761",
   "metadata": {},
   "outputs": [],
   "source": [
    "os.environ['KMP_DUPLICATE_LIB_OK'] = 'TRUE'   #this one solves a dead kernel problem"
   ]
  },
  {
   "cell_type": "code",
   "execution_count": 3,
   "id": "ce8053c5",
   "metadata": {},
   "outputs": [
    {
     "data": {
      "text/plain": [
       "PhysicalDevice(name='/physical_device:GPU:0', device_type='GPU')"
      ]
     },
     "execution_count": 3,
     "metadata": {},
     "output_type": "execute_result"
    }
   ],
   "source": [
    "physical_devices = tf.config.list_physical_devices('GPU') #finds one GPU and one CPU\n",
    "physical_devices[0]"
   ]
  },
  {
   "cell_type": "code",
   "execution_count": 4,
   "id": "a4e93049",
   "metadata": {},
   "outputs": [],
   "source": [
    "#avoiding out of memory (OOM) errors\n",
    "tf.config.experimental.set_memory_growth(physical_devices[0], True)\n"
   ]
  },
  {
   "cell_type": "markdown",
   "id": "46423875",
   "metadata": {},
   "source": [
    "# Data preparation"
   ]
  },
  {
   "cell_type": "code",
   "execution_count": 5,
   "id": "6fc9a1a5-c054-4010-8adb-8e5b328ef8f9",
   "metadata": {},
   "outputs": [],
   "source": [
    "mydf = pd.read_csv('dataset.csv', sep = '\\t')"
   ]
  },
  {
   "cell_type": "code",
   "execution_count": 6,
   "id": "45dee7dd-2b72-4398-b316-dd4e726c4709",
   "metadata": {},
   "outputs": [
    {
     "data": {
      "text/html": [
       "<div>\n",
       "<style scoped>\n",
       "    .dataframe tbody tr th:only-of-type {\n",
       "        vertical-align: middle;\n",
       "    }\n",
       "\n",
       "    .dataframe tbody tr th {\n",
       "        vertical-align: top;\n",
       "    }\n",
       "\n",
       "    .dataframe thead th {\n",
       "        text-align: right;\n",
       "    }\n",
       "</style>\n",
       "<table border=\"1\" class=\"dataframe\">\n",
       "  <thead>\n",
       "    <tr style=\"text-align: right;\">\n",
       "      <th></th>\n",
       "      <th>filename</th>\n",
       "      <th>directory</th>\n",
       "      <th>defect</th>\n",
       "      <th>defect_ID</th>\n",
       "    </tr>\n",
       "  </thead>\n",
       "  <tbody>\n",
       "    <tr>\n",
       "      <th>0</th>\n",
       "      <td>6001.jpg</td>\n",
       "      <td>datas\\finishing roll printing\\6001.jpg</td>\n",
       "      <td>finishing roll printing</td>\n",
       "      <td>0</td>\n",
       "    </tr>\n",
       "    <tr>\n",
       "      <th>1</th>\n",
       "      <td>6002.jpg</td>\n",
       "      <td>datas\\finishing roll printing\\6002.jpg</td>\n",
       "      <td>finishing roll printing</td>\n",
       "      <td>0</td>\n",
       "    </tr>\n",
       "    <tr>\n",
       "      <th>2</th>\n",
       "      <td>6003.jpg</td>\n",
       "      <td>datas\\finishing roll printing\\6003.jpg</td>\n",
       "      <td>finishing roll printing</td>\n",
       "      <td>0</td>\n",
       "    </tr>\n",
       "    <tr>\n",
       "      <th>3</th>\n",
       "      <td>6004.jpg</td>\n",
       "      <td>datas\\finishing roll printing\\6004.jpg</td>\n",
       "      <td>finishing roll printing</td>\n",
       "      <td>0</td>\n",
       "    </tr>\n",
       "    <tr>\n",
       "      <th>4</th>\n",
       "      <td>6005.jpg</td>\n",
       "      <td>datas\\finishing roll printing\\6005.jpg</td>\n",
       "      <td>finishing roll printing</td>\n",
       "      <td>0</td>\n",
       "    </tr>\n",
       "    <tr>\n",
       "      <th>...</th>\n",
       "      <td>...</td>\n",
       "      <td>...</td>\n",
       "      <td>...</td>\n",
       "      <td>...</td>\n",
       "    </tr>\n",
       "    <tr>\n",
       "      <th>1355</th>\n",
       "      <td>4130.jpg</td>\n",
       "      <td>datas\\surface scratch\\4130.jpg</td>\n",
       "      <td>surface scratch</td>\n",
       "      <td>6</td>\n",
       "    </tr>\n",
       "    <tr>\n",
       "      <th>1356</th>\n",
       "      <td>4131.jpg</td>\n",
       "      <td>datas\\surface scratch\\4131.jpg</td>\n",
       "      <td>surface scratch</td>\n",
       "      <td>6</td>\n",
       "    </tr>\n",
       "    <tr>\n",
       "      <th>1357</th>\n",
       "      <td>4132.jpg</td>\n",
       "      <td>datas\\surface scratch\\4132.jpg</td>\n",
       "      <td>surface scratch</td>\n",
       "      <td>6</td>\n",
       "    </tr>\n",
       "    <tr>\n",
       "      <th>1358</th>\n",
       "      <td>4133.jpg</td>\n",
       "      <td>datas\\surface scratch\\4133.jpg</td>\n",
       "      <td>surface scratch</td>\n",
       "      <td>6</td>\n",
       "    </tr>\n",
       "    <tr>\n",
       "      <th>1359</th>\n",
       "      <td>4134.jpg</td>\n",
       "      <td>datas\\surface scratch\\4134.jpg</td>\n",
       "      <td>surface scratch</td>\n",
       "      <td>6</td>\n",
       "    </tr>\n",
       "  </tbody>\n",
       "</table>\n",
       "<p>1360 rows × 4 columns</p>\n",
       "</div>"
      ],
      "text/plain": [
       "      filename                               directory  \\\n",
       "0     6001.jpg  datas\\finishing roll printing\\6001.jpg   \n",
       "1     6002.jpg  datas\\finishing roll printing\\6002.jpg   \n",
       "2     6003.jpg  datas\\finishing roll printing\\6003.jpg   \n",
       "3     6004.jpg  datas\\finishing roll printing\\6004.jpg   \n",
       "4     6005.jpg  datas\\finishing roll printing\\6005.jpg   \n",
       "...        ...                                     ...   \n",
       "1355  4130.jpg          datas\\surface scratch\\4130.jpg   \n",
       "1356  4131.jpg          datas\\surface scratch\\4131.jpg   \n",
       "1357  4132.jpg          datas\\surface scratch\\4132.jpg   \n",
       "1358  4133.jpg          datas\\surface scratch\\4133.jpg   \n",
       "1359  4134.jpg          datas\\surface scratch\\4134.jpg   \n",
       "\n",
       "                       defect  defect_ID  \n",
       "0     finishing roll printing          0  \n",
       "1     finishing roll printing          0  \n",
       "2     finishing roll printing          0  \n",
       "3     finishing roll printing          0  \n",
       "4     finishing roll printing          0  \n",
       "...                       ...        ...  \n",
       "1355          surface scratch          6  \n",
       "1356          surface scratch          6  \n",
       "1357          surface scratch          6  \n",
       "1358          surface scratch          6  \n",
       "1359          surface scratch          6  \n",
       "\n",
       "[1360 rows x 4 columns]"
      ]
     },
     "execution_count": 6,
     "metadata": {},
     "output_type": "execute_result"
    }
   ],
   "source": [
    "mydf"
   ]
  },
  {
   "cell_type": "code",
   "execution_count": 7,
   "id": "b62edf00-efb2-4e4b-a02d-2452230a3631",
   "metadata": {},
   "outputs": [
    {
     "data": {
      "text/plain": [
       "['datas\\\\finishing roll printing\\\\6001.jpg',\n",
       " 'datas\\\\finishing roll printing\\\\6002.jpg',\n",
       " 'datas\\\\finishing roll printing\\\\6003.jpg',\n",
       " 'datas\\\\finishing roll printing\\\\6004.jpg',\n",
       " 'datas\\\\finishing roll printing\\\\6005.jpg',\n",
       " 'datas\\\\finishing roll printing\\\\6006.jpg',\n",
       " 'datas\\\\finishing roll printing\\\\6007.jpg',\n",
       " 'datas\\\\finishing roll printing\\\\6008.jpg',\n",
       " 'datas\\\\finishing roll printing\\\\6009.jpg',\n",
       " 'datas\\\\finishing roll printing\\\\6010.jpg',\n",
       " 'datas\\\\finishing roll printing\\\\6011.jpg',\n",
       " 'datas\\\\finishing roll printing\\\\6012.jpg',\n",
       " 'datas\\\\finishing roll printing\\\\6013.jpg',\n",
       " 'datas\\\\finishing roll printing\\\\6014.jpg',\n",
       " 'datas\\\\finishing roll printing\\\\6015.jpg',\n",
       " 'datas\\\\finishing roll printing\\\\6016.jpg',\n",
       " 'datas\\\\finishing roll printing\\\\6017.jpg',\n",
       " 'datas\\\\finishing roll printing\\\\6018.jpg',\n",
       " 'datas\\\\finishing roll printing\\\\6019.jpg',\n",
       " 'datas\\\\finishing roll printing\\\\6020.jpg',\n",
       " 'datas\\\\finishing roll printing\\\\6021.jpg',\n",
       " 'datas\\\\finishing roll printing\\\\6022.jpg',\n",
       " 'datas\\\\finishing roll printing\\\\6023.jpg',\n",
       " 'datas\\\\finishing roll printing\\\\6024.jpg',\n",
       " 'datas\\\\finishing roll printing\\\\6025.jpg',\n",
       " 'datas\\\\finishing roll printing\\\\6026.jpg',\n",
       " 'datas\\\\finishing roll printing\\\\6027.jpg',\n",
       " 'datas\\\\finishing roll printing\\\\6028.jpg',\n",
       " 'datas\\\\finishing roll printing\\\\6029.jpg',\n",
       " 'datas\\\\finishing roll printing\\\\6030.jpg',\n",
       " 'datas\\\\finishing roll printing\\\\6031.jpg',\n",
       " 'datas\\\\finishing roll printing\\\\6032.jpg',\n",
       " 'datas\\\\finishing roll printing\\\\6033.jpg',\n",
       " 'datas\\\\finishing roll printing\\\\6034.jpg',\n",
       " 'datas\\\\finishing roll printing\\\\6035.jpg',\n",
       " 'datas\\\\finishing roll printing\\\\6036.jpg',\n",
       " 'datas\\\\finishing roll printing\\\\6037.jpg',\n",
       " 'datas\\\\finishing roll printing\\\\6038.jpg',\n",
       " 'datas\\\\finishing roll printing\\\\6039.jpg',\n",
       " 'datas\\\\finishing roll printing\\\\6040.jpg',\n",
       " 'datas\\\\finishing roll printing\\\\6041.jpg',\n",
       " 'datas\\\\finishing roll printing\\\\6042.jpg',\n",
       " 'datas\\\\finishing roll printing\\\\6043.jpg',\n",
       " 'datas\\\\finishing roll printing\\\\6044.jpg',\n",
       " 'datas\\\\finishing roll printing\\\\6045.jpg',\n",
       " 'datas\\\\finishing roll printing\\\\6046.jpg',\n",
       " 'datas\\\\finishing roll printing\\\\6047.jpg',\n",
       " 'datas\\\\finishing roll printing\\\\6048.jpg',\n",
       " 'datas\\\\finishing roll printing\\\\6049.jpg',\n",
       " 'datas\\\\finishing roll printing\\\\6050.jpg',\n",
       " 'datas\\\\finishing roll printing\\\\6051.jpg',\n",
       " 'datas\\\\finishing roll printing\\\\6052.jpg',\n",
       " 'datas\\\\finishing roll printing\\\\6053.jpg',\n",
       " 'datas\\\\finishing roll printing\\\\6054.jpg',\n",
       " 'datas\\\\finishing roll printing\\\\6055.jpg',\n",
       " 'datas\\\\finishing roll printing\\\\6056.jpg',\n",
       " 'datas\\\\finishing roll printing\\\\6057.jpg',\n",
       " 'datas\\\\finishing roll printing\\\\6058.jpg',\n",
       " 'datas\\\\finishing roll printing\\\\6059.jpg',\n",
       " 'datas\\\\finishing roll printing\\\\6060.jpg',\n",
       " 'datas\\\\finishing roll printing\\\\6061.jpg',\n",
       " 'datas\\\\finishing roll printing\\\\6062.jpg',\n",
       " 'datas\\\\finishing roll printing\\\\6063.jpg',\n",
       " 'datas\\\\finishing roll printing\\\\6064.jpg',\n",
       " 'datas\\\\finishing roll printing\\\\6065.jpg',\n",
       " 'datas\\\\finishing roll printing\\\\6066.jpg',\n",
       " 'datas\\\\finishing roll printing\\\\6067.jpg',\n",
       " 'datas\\\\finishing roll printing\\\\6068.jpg',\n",
       " 'datas\\\\finishing roll printing\\\\6069.jpg',\n",
       " 'datas\\\\finishing roll printing\\\\6070.jpg',\n",
       " 'datas\\\\finishing roll printing\\\\6071.jpg',\n",
       " 'datas\\\\finishing roll printing\\\\6072.jpg',\n",
       " 'datas\\\\finishing roll printing\\\\6073.jpg',\n",
       " 'datas\\\\finishing roll printing\\\\6074.jpg',\n",
       " 'datas\\\\finishing roll printing\\\\6075.jpg',\n",
       " 'datas\\\\finishing roll printing\\\\6076.jpg',\n",
       " 'datas\\\\finishing roll printing\\\\6077.jpg',\n",
       " 'datas\\\\finishing roll printing\\\\6078.jpg',\n",
       " 'datas\\\\finishing roll printing\\\\6079.jpg',\n",
       " 'datas\\\\finishing roll printing\\\\6080.jpg',\n",
       " 'datas\\\\finishing roll printing\\\\6081.jpg',\n",
       " 'datas\\\\finishing roll printing\\\\6082.jpg',\n",
       " 'datas\\\\finishing roll printing\\\\6083.jpg',\n",
       " 'datas\\\\finishing roll printing\\\\6084.jpg',\n",
       " 'datas\\\\finishing roll printing\\\\6085.jpg',\n",
       " 'datas\\\\finishing roll printing\\\\6086.jpg',\n",
       " 'datas\\\\finishing roll printing\\\\6087.jpg',\n",
       " 'datas\\\\finishing roll printing\\\\6088.jpg',\n",
       " 'datas\\\\finishing roll printing\\\\6089.jpg',\n",
       " 'datas\\\\finishing roll printing\\\\6090.jpg',\n",
       " 'datas\\\\finishing roll printing\\\\6091.jpg',\n",
       " 'datas\\\\finishing roll printing\\\\6092.jpg',\n",
       " 'datas\\\\finishing roll printing\\\\6093.jpg',\n",
       " 'datas\\\\finishing roll printing\\\\6094.jpg',\n",
       " 'datas\\\\finishing roll printing\\\\6095.jpg',\n",
       " 'datas\\\\finishing roll printing\\\\6096.jpg',\n",
       " 'datas\\\\finishing roll printing\\\\6097.jpg',\n",
       " 'datas\\\\finishing roll printing\\\\6098.jpg',\n",
       " 'datas\\\\finishing roll printing\\\\6099.jpg',\n",
       " 'datas\\\\finishing roll printing\\\\6100.jpg',\n",
       " 'datas\\\\finishing roll printing\\\\6101.jpg',\n",
       " 'datas\\\\finishing roll printing\\\\6102.jpg',\n",
       " 'datas\\\\finishing roll printing\\\\6103.jpg',\n",
       " 'datas\\\\finishing roll printing\\\\6104.jpg',\n",
       " 'datas\\\\finishing roll printing\\\\6105.jpg',\n",
       " 'datas\\\\finishing roll printing\\\\6106.jpg',\n",
       " 'datas\\\\finishing roll printing\\\\6107.jpg',\n",
       " 'datas\\\\finishing roll printing\\\\6108.jpg',\n",
       " 'datas\\\\finishing roll printing\\\\6109.jpg',\n",
       " 'datas\\\\finishing roll printing\\\\6110.jpg',\n",
       " 'datas\\\\finishing roll printing\\\\6111.jpg',\n",
       " 'datas\\\\finishing roll printing\\\\6112.jpg',\n",
       " 'datas\\\\finishing roll printing\\\\6113.jpg',\n",
       " 'datas\\\\finishing roll printing\\\\6114.jpg',\n",
       " 'datas\\\\finishing roll printing\\\\6115.jpg',\n",
       " 'datas\\\\finishing roll printing\\\\6116.jpg',\n",
       " 'datas\\\\finishing roll printing\\\\6117.jpg',\n",
       " 'datas\\\\finishing roll printing\\\\6118.jpg',\n",
       " 'datas\\\\finishing roll printing\\\\6119.jpg',\n",
       " 'datas\\\\finishing roll printing\\\\6120.jpg',\n",
       " 'datas\\\\finishing roll printing\\\\6121.jpg',\n",
       " 'datas\\\\finishing roll printing\\\\6122.jpg',\n",
       " 'datas\\\\finishing roll printing\\\\6123.jpg',\n",
       " 'datas\\\\finishing roll printing\\\\6124.jpg',\n",
       " 'datas\\\\finishing roll printing\\\\6125.jpg',\n",
       " 'datas\\\\finishing roll printing\\\\6126.jpg',\n",
       " 'datas\\\\finishing roll printing\\\\6127.jpg',\n",
       " 'datas\\\\finishing roll printing\\\\6128.jpg',\n",
       " 'datas\\\\finishing roll printing\\\\6129.jpg',\n",
       " 'datas\\\\finishing roll printing\\\\6130.jpg',\n",
       " 'datas\\\\finishing roll printing\\\\6131.jpg',\n",
       " 'datas\\\\finishing roll printing\\\\6132.jpg',\n",
       " 'datas\\\\finishing roll printing\\\\6133.jpg',\n",
       " 'datas\\\\finishing roll printing\\\\6134.jpg',\n",
       " 'datas\\\\finishing roll printing\\\\6135.jpg',\n",
       " 'datas\\\\finishing roll printing\\\\6136.jpg',\n",
       " 'datas\\\\finishing roll printing\\\\6137.jpg',\n",
       " 'datas\\\\finishing roll printing\\\\6138.jpg',\n",
       " 'datas\\\\finishing roll printing\\\\6139.jpg',\n",
       " 'datas\\\\finishing roll printing\\\\6140.jpg',\n",
       " 'datas\\\\finishing roll printing\\\\6141.jpg',\n",
       " 'datas\\\\finishing roll printing\\\\6142.jpg',\n",
       " 'datas\\\\finishing roll printing\\\\6143.jpg',\n",
       " 'datas\\\\finishing roll printing\\\\6144.jpg',\n",
       " 'datas\\\\finishing roll printing\\\\6145.jpg',\n",
       " 'datas\\\\finishing roll printing\\\\6146.jpg',\n",
       " 'datas\\\\finishing roll printing\\\\6147.jpg',\n",
       " 'datas\\\\finishing roll printing\\\\6148.jpg',\n",
       " 'datas\\\\finishing roll printing\\\\6149.jpg',\n",
       " 'datas\\\\finishing roll printing\\\\6150.jpg',\n",
       " 'datas\\\\finishing roll printing\\\\6151.jpg',\n",
       " 'datas\\\\finishing roll printing\\\\6152.jpg',\n",
       " 'datas\\\\finishing roll printing\\\\6153.jpg',\n",
       " 'datas\\\\finishing roll printing\\\\6154.jpg',\n",
       " 'datas\\\\finishing roll printing\\\\6155.jpg',\n",
       " 'datas\\\\finishing roll printing\\\\6156.jpg',\n",
       " 'datas\\\\finishing roll printing\\\\6157.jpg',\n",
       " 'datas\\\\finishing roll printing\\\\6158.jpg',\n",
       " 'datas\\\\finishing roll printing\\\\6159.jpg',\n",
       " 'datas\\\\finishing roll printing\\\\6160.jpg',\n",
       " 'datas\\\\finishing roll printing\\\\6161.jpg',\n",
       " 'datas\\\\finishing roll printing\\\\6162.jpg',\n",
       " 'datas\\\\finishing roll printing\\\\6163.jpg',\n",
       " 'datas\\\\finishing roll printing\\\\6164.jpg',\n",
       " 'datas\\\\finishing roll printing\\\\6165.jpg',\n",
       " 'datas\\\\finishing roll printing\\\\6166.jpg',\n",
       " 'datas\\\\finishing roll printing\\\\6167.jpg',\n",
       " 'datas\\\\finishing roll printing\\\\6168.jpg',\n",
       " 'datas\\\\finishing roll printing\\\\6169.jpg',\n",
       " 'datas\\\\finishing roll printing\\\\6170.jpg',\n",
       " 'datas\\\\finishing roll printing\\\\6171.jpg',\n",
       " 'datas\\\\finishing roll printing\\\\6172.jpg',\n",
       " 'datas\\\\finishing roll printing\\\\6173.jpg',\n",
       " 'datas\\\\finishing roll printing\\\\6174.jpg',\n",
       " 'datas\\\\finishing roll printing\\\\6175.jpg',\n",
       " 'datas\\\\finishing roll printing\\\\6176.jpg',\n",
       " 'datas\\\\finishing roll printing\\\\6177.jpg',\n",
       " 'datas\\\\finishing roll printing\\\\6178.jpg',\n",
       " 'datas\\\\finishing roll printing\\\\6179.jpg',\n",
       " 'datas\\\\finishing roll printing\\\\6180.jpg',\n",
       " 'datas\\\\finishing roll printing\\\\6181.jpg',\n",
       " 'datas\\\\finishing roll printing\\\\6182.jpg',\n",
       " 'datas\\\\finishing roll printing\\\\6183.jpg',\n",
       " 'datas\\\\finishing roll printing\\\\6184.jpg',\n",
       " 'datas\\\\finishing roll printing\\\\6185.jpg',\n",
       " 'datas\\\\finishing roll printing\\\\6186.jpg',\n",
       " 'datas\\\\finishing roll printing\\\\6187.jpg',\n",
       " 'datas\\\\finishing roll printing\\\\6188.jpg',\n",
       " 'datas\\\\finishing roll printing\\\\6189.jpg',\n",
       " 'datas\\\\finishing roll printing\\\\6190.jpg',\n",
       " 'datas\\\\finishing roll printing\\\\6191.jpg',\n",
       " 'datas\\\\finishing roll printing\\\\6192.jpg',\n",
       " 'datas\\\\finishing roll printing\\\\6193.jpg',\n",
       " 'datas\\\\finishing roll printing\\\\6194.jpg',\n",
       " 'datas\\\\finishing roll printing\\\\6195.jpg',\n",
       " 'datas\\\\finishing roll printing\\\\6196.jpg',\n",
       " 'datas\\\\finishing roll printing\\\\6197.jpg',\n",
       " 'datas\\\\finishing roll printing\\\\6198.jpg',\n",
       " 'datas\\\\finishing roll printing\\\\6199.jpg',\n",
       " 'datas\\\\finishing roll printing\\\\6200.jpg',\n",
       " 'datas\\\\finishing roll printing\\\\6201.jpg',\n",
       " 'datas\\\\finishing roll printing\\\\6202.jpg',\n",
       " 'datas\\\\finishing roll printing\\\\6203.jpg',\n",
       " 'datas\\\\iron sheet ash\\\\3001.jpg',\n",
       " 'datas\\\\iron sheet ash\\\\3002.jpg',\n",
       " 'datas\\\\iron sheet ash\\\\3003.jpg',\n",
       " 'datas\\\\iron sheet ash\\\\3004.jpg',\n",
       " 'datas\\\\iron sheet ash\\\\3005.jpg',\n",
       " 'datas\\\\iron sheet ash\\\\3006.jpg',\n",
       " 'datas\\\\iron sheet ash\\\\3007.jpg',\n",
       " 'datas\\\\iron sheet ash\\\\3008.jpg',\n",
       " 'datas\\\\iron sheet ash\\\\3009.jpg',\n",
       " 'datas\\\\iron sheet ash\\\\3010.jpg',\n",
       " 'datas\\\\iron sheet ash\\\\3011.jpg',\n",
       " 'datas\\\\iron sheet ash\\\\3012.jpg',\n",
       " 'datas\\\\iron sheet ash\\\\3013.jpg',\n",
       " 'datas\\\\iron sheet ash\\\\3014.jpg',\n",
       " 'datas\\\\iron sheet ash\\\\3015.jpg',\n",
       " 'datas\\\\iron sheet ash\\\\3016.jpg',\n",
       " 'datas\\\\iron sheet ash\\\\3017.jpg',\n",
       " 'datas\\\\iron sheet ash\\\\3018.jpg',\n",
       " 'datas\\\\iron sheet ash\\\\3019.jpg',\n",
       " 'datas\\\\iron sheet ash\\\\3020.jpg',\n",
       " 'datas\\\\iron sheet ash\\\\3021.jpg',\n",
       " 'datas\\\\iron sheet ash\\\\3022.jpg',\n",
       " 'datas\\\\iron sheet ash\\\\3023.jpg',\n",
       " 'datas\\\\iron sheet ash\\\\3024.jpg',\n",
       " 'datas\\\\iron sheet ash\\\\3025.jpg',\n",
       " 'datas\\\\iron sheet ash\\\\3026.jpg',\n",
       " 'datas\\\\iron sheet ash\\\\3027.jpg',\n",
       " 'datas\\\\iron sheet ash\\\\3028.jpg',\n",
       " 'datas\\\\iron sheet ash\\\\3029.jpg',\n",
       " 'datas\\\\iron sheet ash\\\\3030.jpg',\n",
       " 'datas\\\\iron sheet ash\\\\3031.jpg',\n",
       " 'datas\\\\iron sheet ash\\\\3032.jpg',\n",
       " 'datas\\\\iron sheet ash\\\\3033.jpg',\n",
       " 'datas\\\\iron sheet ash\\\\3034.jpg',\n",
       " 'datas\\\\iron sheet ash\\\\3035.jpg',\n",
       " 'datas\\\\iron sheet ash\\\\3036.jpg',\n",
       " 'datas\\\\iron sheet ash\\\\3037.jpg',\n",
       " 'datas\\\\iron sheet ash\\\\3038.jpg',\n",
       " 'datas\\\\iron sheet ash\\\\3039.jpg',\n",
       " 'datas\\\\iron sheet ash\\\\3040.jpg',\n",
       " 'datas\\\\iron sheet ash\\\\3041.jpg',\n",
       " 'datas\\\\iron sheet ash\\\\3042.jpg',\n",
       " 'datas\\\\iron sheet ash\\\\3043.jpg',\n",
       " 'datas\\\\iron sheet ash\\\\3044.jpg',\n",
       " 'datas\\\\iron sheet ash\\\\3045.jpg',\n",
       " 'datas\\\\iron sheet ash\\\\3046.jpg',\n",
       " 'datas\\\\iron sheet ash\\\\3047.jpg',\n",
       " 'datas\\\\iron sheet ash\\\\3048.jpg',\n",
       " 'datas\\\\iron sheet ash\\\\3049.jpg',\n",
       " 'datas\\\\iron sheet ash\\\\3050.jpg',\n",
       " 'datas\\\\iron sheet ash\\\\3051.jpg',\n",
       " 'datas\\\\iron sheet ash\\\\3052.jpg',\n",
       " 'datas\\\\iron sheet ash\\\\3053.jpg',\n",
       " 'datas\\\\iron sheet ash\\\\3054.jpg',\n",
       " 'datas\\\\iron sheet ash\\\\3055.jpg',\n",
       " 'datas\\\\iron sheet ash\\\\3056.jpg',\n",
       " 'datas\\\\iron sheet ash\\\\3057.jpg',\n",
       " 'datas\\\\iron sheet ash\\\\3058.jpg',\n",
       " 'datas\\\\iron sheet ash\\\\3059.jpg',\n",
       " 'datas\\\\iron sheet ash\\\\3060.jpg',\n",
       " 'datas\\\\iron sheet ash\\\\3061.jpg',\n",
       " 'datas\\\\iron sheet ash\\\\3062.jpg',\n",
       " 'datas\\\\iron sheet ash\\\\3063.jpg',\n",
       " 'datas\\\\iron sheet ash\\\\3064.jpg',\n",
       " 'datas\\\\iron sheet ash\\\\3065.jpg',\n",
       " 'datas\\\\iron sheet ash\\\\3066.jpg',\n",
       " 'datas\\\\iron sheet ash\\\\3067.jpg',\n",
       " 'datas\\\\iron sheet ash\\\\3068.jpg',\n",
       " 'datas\\\\iron sheet ash\\\\3069.jpg',\n",
       " 'datas\\\\iron sheet ash\\\\3070.jpg',\n",
       " 'datas\\\\iron sheet ash\\\\3071.jpg',\n",
       " 'datas\\\\iron sheet ash\\\\3072.jpg',\n",
       " 'datas\\\\iron sheet ash\\\\3073.jpg',\n",
       " 'datas\\\\iron sheet ash\\\\3074.jpg',\n",
       " 'datas\\\\iron sheet ash\\\\3075.jpg',\n",
       " 'datas\\\\iron sheet ash\\\\3076.jpg',\n",
       " 'datas\\\\iron sheet ash\\\\3077.jpg',\n",
       " 'datas\\\\iron sheet ash\\\\3078.jpg',\n",
       " 'datas\\\\iron sheet ash\\\\3079.jpg',\n",
       " 'datas\\\\iron sheet ash\\\\3080.jpg',\n",
       " 'datas\\\\iron sheet ash\\\\3081.jpg',\n",
       " 'datas\\\\iron sheet ash\\\\3082.jpg',\n",
       " 'datas\\\\iron sheet ash\\\\3083.jpg',\n",
       " 'datas\\\\iron sheet ash\\\\3084.jpg',\n",
       " 'datas\\\\iron sheet ash\\\\3085.jpg',\n",
       " 'datas\\\\iron sheet ash\\\\3086.jpg',\n",
       " 'datas\\\\iron sheet ash\\\\3087.jpg',\n",
       " 'datas\\\\iron sheet ash\\\\3088.jpg',\n",
       " 'datas\\\\iron sheet ash\\\\3089.jpg',\n",
       " 'datas\\\\iron sheet ash\\\\3090.jpg',\n",
       " 'datas\\\\iron sheet ash\\\\3091.jpg',\n",
       " 'datas\\\\iron sheet ash\\\\3092.jpg',\n",
       " 'datas\\\\iron sheet ash\\\\3093.jpg',\n",
       " 'datas\\\\iron sheet ash\\\\3094.jpg',\n",
       " 'datas\\\\iron sheet ash\\\\3095.jpg',\n",
       " 'datas\\\\iron sheet ash\\\\3096.jpg',\n",
       " 'datas\\\\iron sheet ash\\\\3097.jpg',\n",
       " 'datas\\\\iron sheet ash\\\\3098.jpg',\n",
       " 'datas\\\\iron sheet ash\\\\3099.jpg',\n",
       " 'datas\\\\iron sheet ash\\\\3100.jpg',\n",
       " 'datas\\\\iron sheet ash\\\\3101.jpg',\n",
       " 'datas\\\\iron sheet ash\\\\3102.jpg',\n",
       " 'datas\\\\iron sheet ash\\\\3103.jpg',\n",
       " 'datas\\\\iron sheet ash\\\\3104.jpg',\n",
       " 'datas\\\\iron sheet ash\\\\3105.jpg',\n",
       " 'datas\\\\iron sheet ash\\\\3106.jpg',\n",
       " 'datas\\\\iron sheet ash\\\\3107.jpg',\n",
       " 'datas\\\\iron sheet ash\\\\3108.jpg',\n",
       " 'datas\\\\iron sheet ash\\\\3109.jpg',\n",
       " 'datas\\\\iron sheet ash\\\\3110.jpg',\n",
       " 'datas\\\\iron sheet ash\\\\3111.jpg',\n",
       " 'datas\\\\iron sheet ash\\\\3112.jpg',\n",
       " 'datas\\\\iron sheet ash\\\\3113.jpg',\n",
       " 'datas\\\\iron sheet ash\\\\3114.jpg',\n",
       " 'datas\\\\iron sheet ash\\\\3115.jpg',\n",
       " 'datas\\\\iron sheet ash\\\\3116.jpg',\n",
       " 'datas\\\\iron sheet ash\\\\3117.jpg',\n",
       " 'datas\\\\iron sheet ash\\\\3118.jpg',\n",
       " 'datas\\\\iron sheet ash\\\\3119.jpg',\n",
       " 'datas\\\\iron sheet ash\\\\3120.jpg',\n",
       " 'datas\\\\iron sheet ash\\\\3121.jpg',\n",
       " 'datas\\\\iron sheet ash\\\\3122.jpg',\n",
       " 'datas\\\\oxide scale of plate system\\\\5001.jpg',\n",
       " 'datas\\\\oxide scale of plate system\\\\5002.jpg',\n",
       " 'datas\\\\oxide scale of plate system\\\\5003.jpg',\n",
       " 'datas\\\\oxide scale of plate system\\\\5004.jpg',\n",
       " 'datas\\\\oxide scale of plate system\\\\5005.jpg',\n",
       " 'datas\\\\oxide scale of plate system\\\\5006.jpg',\n",
       " 'datas\\\\oxide scale of plate system\\\\5007.jpg',\n",
       " 'datas\\\\oxide scale of plate system\\\\5008.jpg',\n",
       " 'datas\\\\oxide scale of plate system\\\\5009.jpg',\n",
       " 'datas\\\\oxide scale of plate system\\\\5010.jpg',\n",
       " 'datas\\\\oxide scale of plate system\\\\5011.jpg',\n",
       " 'datas\\\\oxide scale of plate system\\\\5012.jpg',\n",
       " 'datas\\\\oxide scale of plate system\\\\5013.jpg',\n",
       " 'datas\\\\oxide scale of plate system\\\\5014.jpg',\n",
       " 'datas\\\\oxide scale of plate system\\\\5015.jpg',\n",
       " 'datas\\\\oxide scale of plate system\\\\5016.jpg',\n",
       " 'datas\\\\oxide scale of plate system\\\\5017.jpg',\n",
       " 'datas\\\\oxide scale of plate system\\\\5018.jpg',\n",
       " 'datas\\\\oxide scale of plate system\\\\5019.jpg',\n",
       " 'datas\\\\oxide scale of plate system\\\\5020.jpg',\n",
       " 'datas\\\\oxide scale of plate system\\\\5021.jpg',\n",
       " 'datas\\\\oxide scale of plate system\\\\5022.jpg',\n",
       " 'datas\\\\oxide scale of plate system\\\\5023.jpg',\n",
       " 'datas\\\\oxide scale of plate system\\\\5024.jpg',\n",
       " 'datas\\\\oxide scale of plate system\\\\5025.jpg',\n",
       " 'datas\\\\oxide scale of plate system\\\\5026.jpg',\n",
       " 'datas\\\\oxide scale of plate system\\\\5027.jpg',\n",
       " 'datas\\\\oxide scale of plate system\\\\5028.jpg',\n",
       " 'datas\\\\oxide scale of plate system\\\\5029.jpg',\n",
       " 'datas\\\\oxide scale of plate system\\\\5030.jpg',\n",
       " 'datas\\\\oxide scale of plate system\\\\5031.jpg',\n",
       " 'datas\\\\oxide scale of plate system\\\\5032.jpg',\n",
       " 'datas\\\\oxide scale of plate system\\\\5033.jpg',\n",
       " 'datas\\\\oxide scale of plate system\\\\5034.jpg',\n",
       " 'datas\\\\oxide scale of plate system\\\\5035.jpg',\n",
       " 'datas\\\\oxide scale of plate system\\\\5036.jpg',\n",
       " 'datas\\\\oxide scale of plate system\\\\5037.jpg',\n",
       " 'datas\\\\oxide scale of plate system\\\\5038.jpg',\n",
       " 'datas\\\\oxide scale of plate system\\\\5039.jpg',\n",
       " 'datas\\\\oxide scale of plate system\\\\5040.jpg',\n",
       " 'datas\\\\oxide scale of plate system\\\\5041.jpg',\n",
       " 'datas\\\\oxide scale of plate system\\\\5042.jpg',\n",
       " 'datas\\\\oxide scale of plate system\\\\5043.jpg',\n",
       " 'datas\\\\oxide scale of plate system\\\\5044.jpg',\n",
       " 'datas\\\\oxide scale of plate system\\\\5045.jpg',\n",
       " 'datas\\\\oxide scale of plate system\\\\5046.jpg',\n",
       " 'datas\\\\oxide scale of plate system\\\\5047.jpg',\n",
       " 'datas\\\\oxide scale of plate system\\\\5048.jpg',\n",
       " 'datas\\\\oxide scale of plate system\\\\5049.jpg',\n",
       " 'datas\\\\oxide scale of plate system\\\\5050.jpg',\n",
       " 'datas\\\\oxide scale of plate system\\\\5051.jpg',\n",
       " 'datas\\\\oxide scale of plate system\\\\5052.jpg',\n",
       " 'datas\\\\oxide scale of plate system\\\\5053.jpg',\n",
       " 'datas\\\\oxide scale of plate system\\\\5054.jpg',\n",
       " 'datas\\\\oxide scale of plate system\\\\5055.jpg',\n",
       " 'datas\\\\oxide scale of plate system\\\\5056.jpg',\n",
       " 'datas\\\\oxide scale of plate system\\\\5057.jpg',\n",
       " 'datas\\\\oxide scale of plate system\\\\5058.jpg',\n",
       " 'datas\\\\oxide scale of plate system\\\\5059.jpg',\n",
       " 'datas\\\\oxide scale of plate system\\\\5060.jpg',\n",
       " 'datas\\\\oxide scale of plate system\\\\5061.jpg',\n",
       " 'datas\\\\oxide scale of plate system\\\\5062.jpg',\n",
       " 'datas\\\\oxide scale of plate system\\\\5063.jpg',\n",
       " 'datas\\\\oxide scale of temperature system\\\\7001.jpg',\n",
       " 'datas\\\\oxide scale of temperature system\\\\7002.jpg',\n",
       " 'datas\\\\oxide scale of temperature system\\\\7003.jpg',\n",
       " 'datas\\\\oxide scale of temperature system\\\\7004.jpg',\n",
       " 'datas\\\\oxide scale of temperature system\\\\7005.jpg',\n",
       " 'datas\\\\oxide scale of temperature system\\\\7006.jpg',\n",
       " 'datas\\\\oxide scale of temperature system\\\\7007.jpg',\n",
       " 'datas\\\\oxide scale of temperature system\\\\7008.jpg',\n",
       " 'datas\\\\oxide scale of temperature system\\\\7009.jpg',\n",
       " 'datas\\\\oxide scale of temperature system\\\\7010.jpg',\n",
       " 'datas\\\\oxide scale of temperature system\\\\7011.jpg',\n",
       " 'datas\\\\oxide scale of temperature system\\\\7012.jpg',\n",
       " 'datas\\\\oxide scale of temperature system\\\\7013.jpg',\n",
       " 'datas\\\\oxide scale of temperature system\\\\7014.jpg',\n",
       " 'datas\\\\oxide scale of temperature system\\\\7015.jpg',\n",
       " 'datas\\\\oxide scale of temperature system\\\\7016.jpg',\n",
       " 'datas\\\\oxide scale of temperature system\\\\7017.jpg',\n",
       " 'datas\\\\oxide scale of temperature system\\\\7018.jpg',\n",
       " 'datas\\\\oxide scale of temperature system\\\\7019.jpg',\n",
       " 'datas\\\\oxide scale of temperature system\\\\7020.jpg',\n",
       " 'datas\\\\oxide scale of temperature system\\\\7021.jpg',\n",
       " 'datas\\\\oxide scale of temperature system\\\\7022.jpg',\n",
       " 'datas\\\\oxide scale of temperature system\\\\7023.jpg',\n",
       " 'datas\\\\oxide scale of temperature system\\\\7024.jpg',\n",
       " 'datas\\\\oxide scale of temperature system\\\\7025.jpg',\n",
       " 'datas\\\\oxide scale of temperature system\\\\7026.jpg',\n",
       " 'datas\\\\oxide scale of temperature system\\\\7027.jpg',\n",
       " 'datas\\\\oxide scale of temperature system\\\\7028.jpg',\n",
       " 'datas\\\\oxide scale of temperature system\\\\7029.jpg',\n",
       " 'datas\\\\oxide scale of temperature system\\\\7030.jpg',\n",
       " 'datas\\\\oxide scale of temperature system\\\\7031.jpg',\n",
       " 'datas\\\\oxide scale of temperature system\\\\7032.jpg',\n",
       " 'datas\\\\oxide scale of temperature system\\\\7033.jpg',\n",
       " 'datas\\\\oxide scale of temperature system\\\\7034.jpg',\n",
       " 'datas\\\\oxide scale of temperature system\\\\7035.jpg',\n",
       " 'datas\\\\oxide scale of temperature system\\\\7036.jpg',\n",
       " 'datas\\\\oxide scale of temperature system\\\\7037.jpg',\n",
       " 'datas\\\\oxide scale of temperature system\\\\7038.jpg',\n",
       " 'datas\\\\oxide scale of temperature system\\\\7039.jpg',\n",
       " 'datas\\\\oxide scale of temperature system\\\\7040.jpg',\n",
       " 'datas\\\\oxide scale of temperature system\\\\7041.jpg',\n",
       " 'datas\\\\oxide scale of temperature system\\\\7042.jpg',\n",
       " 'datas\\\\oxide scale of temperature system\\\\7043.jpg',\n",
       " 'datas\\\\oxide scale of temperature system\\\\7044.jpg',\n",
       " 'datas\\\\oxide scale of temperature system\\\\7045.jpg',\n",
       " 'datas\\\\oxide scale of temperature system\\\\7046.jpg',\n",
       " 'datas\\\\oxide scale of temperature system\\\\7047.jpg',\n",
       " 'datas\\\\oxide scale of temperature system\\\\7048.jpg',\n",
       " 'datas\\\\oxide scale of temperature system\\\\7049.jpg',\n",
       " 'datas\\\\oxide scale of temperature system\\\\7050.jpg',\n",
       " 'datas\\\\oxide scale of temperature system\\\\7051.jpg',\n",
       " 'datas\\\\oxide scale of temperature system\\\\7052.jpg',\n",
       " 'datas\\\\oxide scale of temperature system\\\\7053.jpg',\n",
       " 'datas\\\\oxide scale of temperature system\\\\7054.jpg',\n",
       " 'datas\\\\oxide scale of temperature system\\\\7055.jpg',\n",
       " 'datas\\\\oxide scale of temperature system\\\\7056.jpg',\n",
       " 'datas\\\\oxide scale of temperature system\\\\7057.jpg',\n",
       " 'datas\\\\oxide scale of temperature system\\\\7058.jpg',\n",
       " 'datas\\\\oxide scale of temperature system\\\\7059.jpg',\n",
       " 'datas\\\\oxide scale of temperature system\\\\7060.jpg',\n",
       " 'datas\\\\oxide scale of temperature system\\\\7061.jpg',\n",
       " 'datas\\\\oxide scale of temperature system\\\\7062.jpg',\n",
       " 'datas\\\\oxide scale of temperature system\\\\7063.jpg',\n",
       " 'datas\\\\oxide scale of temperature system\\\\7064.jpg',\n",
       " 'datas\\\\oxide scale of temperature system\\\\7065.jpg',\n",
       " 'datas\\\\oxide scale of temperature system\\\\7066.jpg',\n",
       " 'datas\\\\oxide scale of temperature system\\\\7067.jpg',\n",
       " 'datas\\\\oxide scale of temperature system\\\\7068.jpg',\n",
       " 'datas\\\\oxide scale of temperature system\\\\7069.jpg',\n",
       " 'datas\\\\oxide scale of temperature system\\\\7070.jpg',\n",
       " 'datas\\\\oxide scale of temperature system\\\\7071.jpg',\n",
       " 'datas\\\\oxide scale of temperature system\\\\7072.jpg',\n",
       " 'datas\\\\oxide scale of temperature system\\\\7073.jpg',\n",
       " 'datas\\\\oxide scale of temperature system\\\\7074.jpg',\n",
       " 'datas\\\\oxide scale of temperature system\\\\7075.jpg',\n",
       " 'datas\\\\oxide scale of temperature system\\\\7076.jpg',\n",
       " 'datas\\\\oxide scale of temperature system\\\\7077.jpg',\n",
       " 'datas\\\\oxide scale of temperature system\\\\7078.jpg',\n",
       " 'datas\\\\oxide scale of temperature system\\\\7079.jpg',\n",
       " 'datas\\\\oxide scale of temperature system\\\\7080.jpg',\n",
       " 'datas\\\\oxide scale of temperature system\\\\7081.jpg',\n",
       " 'datas\\\\oxide scale of temperature system\\\\7082.jpg',\n",
       " 'datas\\\\oxide scale of temperature system\\\\7083.jpg',\n",
       " 'datas\\\\oxide scale of temperature system\\\\7084.jpg',\n",
       " 'datas\\\\oxide scale of temperature system\\\\7085.jpg',\n",
       " 'datas\\\\oxide scale of temperature system\\\\7086.jpg',\n",
       " 'datas\\\\oxide scale of temperature system\\\\7087.jpg',\n",
       " 'datas\\\\oxide scale of temperature system\\\\7088.jpg',\n",
       " 'datas\\\\oxide scale of temperature system\\\\7089.jpg',\n",
       " 'datas\\\\oxide scale of temperature system\\\\7090.jpg',\n",
       " 'datas\\\\oxide scale of temperature system\\\\7091.jpg',\n",
       " 'datas\\\\oxide scale of temperature system\\\\7092.jpg',\n",
       " 'datas\\\\oxide scale of temperature system\\\\7093.jpg',\n",
       " 'datas\\\\oxide scale of temperature system\\\\7094.jpg',\n",
       " 'datas\\\\oxide scale of temperature system\\\\7095.jpg',\n",
       " 'datas\\\\oxide scale of temperature system\\\\7096.jpg',\n",
       " 'datas\\\\oxide scale of temperature system\\\\7097.jpg',\n",
       " 'datas\\\\oxide scale of temperature system\\\\7098.jpg',\n",
       " 'datas\\\\oxide scale of temperature system\\\\7099.jpg',\n",
       " 'datas\\\\oxide scale of temperature system\\\\7100.jpg',\n",
       " 'datas\\\\oxide scale of temperature system\\\\7101.jpg',\n",
       " 'datas\\\\oxide scale of temperature system\\\\7102.jpg',\n",
       " 'datas\\\\oxide scale of temperature system\\\\7103.jpg',\n",
       " 'datas\\\\oxide scale of temperature system\\\\7104.jpg',\n",
       " 'datas\\\\oxide scale of temperature system\\\\7105.jpg',\n",
       " 'datas\\\\oxide scale of temperature system\\\\7106.jpg',\n",
       " 'datas\\\\oxide scale of temperature system\\\\7107.jpg',\n",
       " 'datas\\\\oxide scale of temperature system\\\\7108.jpg',\n",
       " 'datas\\\\oxide scale of temperature system\\\\7109.jpg',\n",
       " 'datas\\\\oxide scale of temperature system\\\\7110.jpg',\n",
       " 'datas\\\\oxide scale of temperature system\\\\7111.jpg',\n",
       " 'datas\\\\oxide scale of temperature system\\\\7112.jpg',\n",
       " 'datas\\\\oxide scale of temperature system\\\\7113.jpg',\n",
       " 'datas\\\\oxide scale of temperature system\\\\7114.jpg',\n",
       " 'datas\\\\oxide scale of temperature system\\\\7115.jpg',\n",
       " 'datas\\\\oxide scale of temperature system\\\\7116.jpg',\n",
       " 'datas\\\\oxide scale of temperature system\\\\7117.jpg',\n",
       " 'datas\\\\oxide scale of temperature system\\\\7118.jpg',\n",
       " 'datas\\\\oxide scale of temperature system\\\\7119.jpg',\n",
       " 'datas\\\\oxide scale of temperature system\\\\7120.jpg',\n",
       " 'datas\\\\oxide scale of temperature system\\\\7121.jpg',\n",
       " 'datas\\\\oxide scale of temperature system\\\\7122.jpg',\n",
       " 'datas\\\\oxide scale of temperature system\\\\7123.jpg',\n",
       " 'datas\\\\oxide scale of temperature system\\\\7124.jpg',\n",
       " 'datas\\\\oxide scale of temperature system\\\\7125.jpg',\n",
       " 'datas\\\\oxide scale of temperature system\\\\7126.jpg',\n",
       " 'datas\\\\oxide scale of temperature system\\\\7127.jpg',\n",
       " 'datas\\\\oxide scale of temperature system\\\\7128.jpg',\n",
       " 'datas\\\\oxide scale of temperature system\\\\7129.jpg',\n",
       " 'datas\\\\oxide scale of temperature system\\\\7130.jpg',\n",
       " 'datas\\\\oxide scale of temperature system\\\\7131.jpg',\n",
       " 'datas\\\\oxide scale of temperature system\\\\7132.jpg',\n",
       " 'datas\\\\oxide scale of temperature system\\\\7133.jpg',\n",
       " 'datas\\\\oxide scale of temperature system\\\\7134.jpg',\n",
       " 'datas\\\\oxide scale of temperature system\\\\7135.jpg',\n",
       " 'datas\\\\oxide scale of temperature system\\\\7136.jpg',\n",
       " 'datas\\\\oxide scale of temperature system\\\\7137.jpg',\n",
       " 'datas\\\\oxide scale of temperature system\\\\7138.jpg',\n",
       " 'datas\\\\oxide scale of temperature system\\\\7139.jpg',\n",
       " 'datas\\\\oxide scale of temperature system\\\\7140.jpg',\n",
       " 'datas\\\\oxide scale of temperature system\\\\7141.jpg',\n",
       " 'datas\\\\oxide scale of temperature system\\\\7142.jpg',\n",
       " 'datas\\\\oxide scale of temperature system\\\\7143.jpg',\n",
       " 'datas\\\\oxide scale of temperature system\\\\7144.jpg',\n",
       " 'datas\\\\oxide scale of temperature system\\\\7145.jpg',\n",
       " 'datas\\\\oxide scale of temperature system\\\\7146.jpg',\n",
       " 'datas\\\\oxide scale of temperature system\\\\7147.jpg',\n",
       " 'datas\\\\oxide scale of temperature system\\\\7148.jpg',\n",
       " 'datas\\\\oxide scale of temperature system\\\\7149.jpg',\n",
       " 'datas\\\\oxide scale of temperature system\\\\7150.jpg',\n",
       " 'datas\\\\oxide scale of temperature system\\\\7151.jpg',\n",
       " 'datas\\\\oxide scale of temperature system\\\\7152.jpg',\n",
       " 'datas\\\\oxide scale of temperature system\\\\7153.jpg',\n",
       " 'datas\\\\oxide scale of temperature system\\\\7154.jpg',\n",
       " 'datas\\\\oxide scale of temperature system\\\\7155.jpg',\n",
       " 'datas\\\\oxide scale of temperature system\\\\7156.jpg',\n",
       " 'datas\\\\oxide scale of temperature system\\\\7157.jpg',\n",
       " 'datas\\\\oxide scale of temperature system\\\\7158.jpg',\n",
       " 'datas\\\\oxide scale of temperature system\\\\7159.jpg',\n",
       " 'datas\\\\oxide scale of temperature system\\\\7160.jpg',\n",
       " 'datas\\\\oxide scale of temperature system\\\\7161.jpg',\n",
       " 'datas\\\\oxide scale of temperature system\\\\7162.jpg',\n",
       " 'datas\\\\oxide scale of temperature system\\\\7163.jpg',\n",
       " 'datas\\\\oxide scale of temperature system\\\\7164.jpg',\n",
       " 'datas\\\\oxide scale of temperature system\\\\7165.jpg',\n",
       " 'datas\\\\oxide scale of temperature system\\\\7166.jpg',\n",
       " 'datas\\\\oxide scale of temperature system\\\\7167.jpg',\n",
       " 'datas\\\\oxide scale of temperature system\\\\7168.jpg',\n",
       " 'datas\\\\oxide scale of temperature system\\\\7169.jpg',\n",
       " 'datas\\\\oxide scale of temperature system\\\\7170.jpg',\n",
       " 'datas\\\\oxide scale of temperature system\\\\7171.jpg',\n",
       " 'datas\\\\oxide scale of temperature system\\\\7172.jpg',\n",
       " 'datas\\\\oxide scale of temperature system\\\\7173.jpg',\n",
       " 'datas\\\\oxide scale of temperature system\\\\7174.jpg',\n",
       " 'datas\\\\oxide scale of temperature system\\\\7175.jpg',\n",
       " 'datas\\\\oxide scale of temperature system\\\\7176.jpg',\n",
       " 'datas\\\\oxide scale of temperature system\\\\7177.jpg',\n",
       " 'datas\\\\oxide scale of temperature system\\\\7178.jpg',\n",
       " 'datas\\\\oxide scale of temperature system\\\\7179.jpg',\n",
       " 'datas\\\\oxide scale of temperature system\\\\7180.jpg',\n",
       " 'datas\\\\oxide scale of temperature system\\\\7181.jpg',\n",
       " 'datas\\\\oxide scale of temperature system\\\\7182.jpg',\n",
       " 'datas\\\\oxide scale of temperature system\\\\7183.jpg',\n",
       " 'datas\\\\oxide scale of temperature system\\\\7184.jpg',\n",
       " 'datas\\\\oxide scale of temperature system\\\\7185.jpg',\n",
       " 'datas\\\\oxide scale of temperature system\\\\7186.jpg',\n",
       " 'datas\\\\oxide scale of temperature system\\\\7187.jpg',\n",
       " 'datas\\\\oxide scale of temperature system\\\\7188.jpg',\n",
       " 'datas\\\\oxide scale of temperature system\\\\7189.jpg',\n",
       " 'datas\\\\oxide scale of temperature system\\\\7190.jpg',\n",
       " 'datas\\\\oxide scale of temperature system\\\\7191.jpg',\n",
       " 'datas\\\\oxide scale of temperature system\\\\7192.jpg',\n",
       " 'datas\\\\oxide scale of temperature system\\\\7193.jpg',\n",
       " 'datas\\\\oxide scale of temperature system\\\\7194.jpg',\n",
       " 'datas\\\\oxide scale of temperature system\\\\7195.jpg',\n",
       " 'datas\\\\oxide scale of temperature system\\\\7196.jpg',\n",
       " 'datas\\\\oxide scale of temperature system\\\\7197.jpg',\n",
       " 'datas\\\\oxide scale of temperature system\\\\7198.jpg',\n",
       " 'datas\\\\oxide scale of temperature system\\\\7199.jpg',\n",
       " 'datas\\\\oxide scale of temperature system\\\\7200.jpg',\n",
       " 'datas\\\\oxide scale of temperature system\\\\7201.jpg',\n",
       " 'datas\\\\oxide scale of temperature system\\\\7202.jpg',\n",
       " 'datas\\\\oxide scale of temperature system\\\\7203.jpg',\n",
       " 'datas\\\\red iron\\\\2001.jpg',\n",
       " 'datas\\\\red iron\\\\2002.jpg',\n",
       " 'datas\\\\red iron\\\\2003.jpg',\n",
       " 'datas\\\\red iron\\\\2004.jpg',\n",
       " 'datas\\\\red iron\\\\2005.jpg',\n",
       " 'datas\\\\red iron\\\\2006.jpg',\n",
       " 'datas\\\\red iron\\\\2007.jpg',\n",
       " 'datas\\\\red iron\\\\2008.jpg',\n",
       " 'datas\\\\red iron\\\\2009.jpg',\n",
       " 'datas\\\\red iron\\\\2010.jpg',\n",
       " 'datas\\\\red iron\\\\2011.jpg',\n",
       " 'datas\\\\red iron\\\\2012.jpg',\n",
       " 'datas\\\\red iron\\\\2013.jpg',\n",
       " 'datas\\\\red iron\\\\2014.jpg',\n",
       " 'datas\\\\red iron\\\\2015.jpg',\n",
       " 'datas\\\\red iron\\\\2016.jpg',\n",
       " 'datas\\\\red iron\\\\2017.jpg',\n",
       " 'datas\\\\red iron\\\\2018.jpg',\n",
       " 'datas\\\\red iron\\\\2019.jpg',\n",
       " 'datas\\\\red iron\\\\2020.jpg',\n",
       " 'datas\\\\red iron\\\\2021.jpg',\n",
       " 'datas\\\\red iron\\\\2022.jpg',\n",
       " 'datas\\\\red iron\\\\2023.jpg',\n",
       " 'datas\\\\red iron\\\\2024.jpg',\n",
       " 'datas\\\\red iron\\\\2025.jpg',\n",
       " 'datas\\\\red iron\\\\2026.jpg',\n",
       " 'datas\\\\red iron\\\\2027.jpg',\n",
       " 'datas\\\\red iron\\\\2028.jpg',\n",
       " 'datas\\\\red iron\\\\2029.jpg',\n",
       " 'datas\\\\red iron\\\\2030.jpg',\n",
       " 'datas\\\\red iron\\\\2031.jpg',\n",
       " 'datas\\\\red iron\\\\2032.jpg',\n",
       " 'datas\\\\red iron\\\\2033.jpg',\n",
       " 'datas\\\\red iron\\\\2034.jpg',\n",
       " 'datas\\\\red iron\\\\2035.jpg',\n",
       " 'datas\\\\red iron\\\\2036.jpg',\n",
       " 'datas\\\\red iron\\\\2037.jpg',\n",
       " 'datas\\\\red iron\\\\2038.jpg',\n",
       " 'datas\\\\red iron\\\\2039.jpg',\n",
       " 'datas\\\\red iron\\\\2040.jpg',\n",
       " 'datas\\\\red iron\\\\2041.jpg',\n",
       " 'datas\\\\red iron\\\\2042.jpg',\n",
       " 'datas\\\\red iron\\\\2043.jpg',\n",
       " 'datas\\\\red iron\\\\2044.jpg',\n",
       " 'datas\\\\red iron\\\\2045.jpg',\n",
       " 'datas\\\\red iron\\\\2046.jpg',\n",
       " 'datas\\\\red iron\\\\2047.jpg',\n",
       " 'datas\\\\red iron\\\\2048.jpg',\n",
       " 'datas\\\\red iron\\\\2049.jpg',\n",
       " 'datas\\\\red iron\\\\2050.jpg',\n",
       " 'datas\\\\red iron\\\\2051.jpg',\n",
       " 'datas\\\\red iron\\\\2052.jpg',\n",
       " 'datas\\\\red iron\\\\2053.jpg',\n",
       " 'datas\\\\red iron\\\\2054.jpg',\n",
       " 'datas\\\\red iron\\\\2055.jpg',\n",
       " 'datas\\\\red iron\\\\2056.jpg',\n",
       " 'datas\\\\red iron\\\\2057.jpg',\n",
       " 'datas\\\\red iron\\\\2058.jpg',\n",
       " 'datas\\\\red iron\\\\2059.jpg',\n",
       " 'datas\\\\red iron\\\\2060.jpg',\n",
       " 'datas\\\\red iron\\\\2061.jpg',\n",
       " 'datas\\\\red iron\\\\2062.jpg',\n",
       " 'datas\\\\red iron\\\\2063.jpg',\n",
       " 'datas\\\\red iron\\\\2064.jpg',\n",
       " 'datas\\\\red iron\\\\2065.jpg',\n",
       " 'datas\\\\red iron\\\\2066.jpg',\n",
       " 'datas\\\\red iron\\\\2067.jpg',\n",
       " 'datas\\\\red iron\\\\2068.jpg',\n",
       " 'datas\\\\red iron\\\\2069.jpg',\n",
       " 'datas\\\\red iron\\\\2070.jpg',\n",
       " 'datas\\\\red iron\\\\2071.jpg',\n",
       " 'datas\\\\red iron\\\\2072.jpg',\n",
       " 'datas\\\\red iron\\\\2073.jpg',\n",
       " 'datas\\\\red iron\\\\2074.jpg',\n",
       " 'datas\\\\red iron\\\\2075.jpg',\n",
       " 'datas\\\\red iron\\\\2076.jpg',\n",
       " 'datas\\\\red iron\\\\2077.jpg',\n",
       " 'datas\\\\red iron\\\\2078.jpg',\n",
       " 'datas\\\\red iron\\\\2079.jpg',\n",
       " 'datas\\\\red iron\\\\2080.jpg',\n",
       " 'datas\\\\red iron\\\\2081.jpg',\n",
       " 'datas\\\\red iron\\\\2082.jpg',\n",
       " 'datas\\\\red iron\\\\2083.jpg',\n",
       " 'datas\\\\red iron\\\\2084.jpg',\n",
       " 'datas\\\\red iron\\\\2085.jpg',\n",
       " 'datas\\\\red iron\\\\2086.jpg',\n",
       " 'datas\\\\red iron\\\\2087.jpg',\n",
       " 'datas\\\\red iron\\\\2088.jpg',\n",
       " 'datas\\\\red iron\\\\2089.jpg',\n",
       " 'datas\\\\red iron\\\\2090.jpg',\n",
       " 'datas\\\\red iron\\\\2091.jpg',\n",
       " 'datas\\\\red iron\\\\2092.jpg',\n",
       " 'datas\\\\red iron\\\\2093.jpg',\n",
       " 'datas\\\\red iron\\\\2094.jpg',\n",
       " 'datas\\\\red iron\\\\2095.jpg',\n",
       " 'datas\\\\red iron\\\\2096.jpg',\n",
       " 'datas\\\\red iron\\\\2097.jpg',\n",
       " 'datas\\\\red iron\\\\2098.jpg',\n",
       " 'datas\\\\red iron\\\\2099.jpg',\n",
       " 'datas\\\\red iron\\\\2100.jpg',\n",
       " 'datas\\\\red iron\\\\2101.jpg',\n",
       " 'datas\\\\red iron\\\\2102.jpg',\n",
       " 'datas\\\\red iron\\\\2103.jpg',\n",
       " 'datas\\\\red iron\\\\2104.jpg',\n",
       " 'datas\\\\red iron\\\\2105.jpg',\n",
       " 'datas\\\\red iron\\\\2106.jpg',\n",
       " 'datas\\\\red iron\\\\2107.jpg',\n",
       " 'datas\\\\red iron\\\\2108.jpg',\n",
       " 'datas\\\\red iron\\\\2109.jpg',\n",
       " 'datas\\\\red iron\\\\2110.jpg',\n",
       " 'datas\\\\red iron\\\\2111.jpg',\n",
       " 'datas\\\\red iron\\\\2112.jpg',\n",
       " 'datas\\\\red iron\\\\2113.jpg',\n",
       " 'datas\\\\red iron\\\\2114.jpg',\n",
       " 'datas\\\\red iron\\\\2115.jpg',\n",
       " 'datas\\\\red iron\\\\2116.jpg',\n",
       " 'datas\\\\red iron\\\\2117.jpg',\n",
       " 'datas\\\\red iron\\\\2118.jpg',\n",
       " 'datas\\\\red iron\\\\2119.jpg',\n",
       " 'datas\\\\red iron\\\\2120.jpg',\n",
       " 'datas\\\\red iron\\\\2121.jpg',\n",
       " 'datas\\\\red iron\\\\2122.jpg',\n",
       " 'datas\\\\red iron\\\\2123.jpg',\n",
       " 'datas\\\\red iron\\\\2124.jpg',\n",
       " 'datas\\\\red iron\\\\2125.jpg',\n",
       " 'datas\\\\red iron\\\\2126.jpg',\n",
       " 'datas\\\\red iron\\\\2127.jpg',\n",
       " 'datas\\\\red iron\\\\2128.jpg',\n",
       " 'datas\\\\red iron\\\\2129.jpg',\n",
       " 'datas\\\\red iron\\\\2130.jpg',\n",
       " 'datas\\\\red iron\\\\2131.jpg',\n",
       " 'datas\\\\red iron\\\\2132.jpg',\n",
       " 'datas\\\\red iron\\\\2133.jpg',\n",
       " 'datas\\\\red iron\\\\2134.jpg',\n",
       " 'datas\\\\red iron\\\\2135.jpg',\n",
       " 'datas\\\\red iron\\\\2136.jpg',\n",
       " 'datas\\\\red iron\\\\2137.jpg',\n",
       " 'datas\\\\red iron\\\\2138.jpg',\n",
       " 'datas\\\\red iron\\\\2139.jpg',\n",
       " 'datas\\\\red iron\\\\2140.jpg',\n",
       " 'datas\\\\red iron\\\\2141.jpg',\n",
       " 'datas\\\\red iron\\\\2142.jpg',\n",
       " 'datas\\\\red iron\\\\2143.jpg',\n",
       " 'datas\\\\red iron\\\\2144.jpg',\n",
       " 'datas\\\\red iron\\\\2145.jpg',\n",
       " 'datas\\\\red iron\\\\2146.jpg',\n",
       " 'datas\\\\red iron\\\\2147.jpg',\n",
       " 'datas\\\\red iron\\\\2148.jpg',\n",
       " 'datas\\\\red iron\\\\2149.jpg',\n",
       " 'datas\\\\red iron\\\\2150.jpg',\n",
       " 'datas\\\\red iron\\\\2151.jpg',\n",
       " 'datas\\\\red iron\\\\2152.jpg',\n",
       " 'datas\\\\red iron\\\\2153.jpg',\n",
       " 'datas\\\\red iron\\\\2154.jpg',\n",
       " 'datas\\\\red iron\\\\2155.jpg',\n",
       " 'datas\\\\red iron\\\\2156.jpg',\n",
       " 'datas\\\\red iron\\\\2157.jpg',\n",
       " 'datas\\\\red iron\\\\2158.jpg',\n",
       " 'datas\\\\red iron\\\\2159.jpg',\n",
       " 'datas\\\\red iron\\\\2160.jpg',\n",
       " 'datas\\\\red iron\\\\2161.jpg',\n",
       " 'datas\\\\red iron\\\\2162.jpg',\n",
       " 'datas\\\\red iron\\\\2163.jpg',\n",
       " 'datas\\\\red iron\\\\2164.jpg',\n",
       " 'datas\\\\red iron\\\\2165.jpg',\n",
       " 'datas\\\\red iron\\\\2166.jpg',\n",
       " 'datas\\\\red iron\\\\2167.jpg',\n",
       " 'datas\\\\red iron\\\\2168.jpg',\n",
       " 'datas\\\\red iron\\\\2169.jpg',\n",
       " 'datas\\\\red iron\\\\2170.jpg',\n",
       " 'datas\\\\red iron\\\\2171.jpg',\n",
       " 'datas\\\\red iron\\\\2172.jpg',\n",
       " 'datas\\\\red iron\\\\2173.jpg',\n",
       " 'datas\\\\red iron\\\\2174.jpg',\n",
       " 'datas\\\\red iron\\\\2175.jpg',\n",
       " 'datas\\\\red iron\\\\2176.jpg',\n",
       " 'datas\\\\red iron\\\\2177.jpg',\n",
       " 'datas\\\\red iron\\\\2178.jpg',\n",
       " 'datas\\\\red iron\\\\2179.jpg',\n",
       " 'datas\\\\red iron\\\\2180.jpg',\n",
       " 'datas\\\\red iron\\\\2181.jpg',\n",
       " 'datas\\\\red iron\\\\2182.jpg',\n",
       " 'datas\\\\red iron\\\\2183.jpg',\n",
       " 'datas\\\\red iron\\\\2184.jpg',\n",
       " 'datas\\\\red iron\\\\2185.jpg',\n",
       " 'datas\\\\red iron\\\\2186.jpg',\n",
       " 'datas\\\\red iron\\\\2187.jpg',\n",
       " 'datas\\\\red iron\\\\2188.jpg',\n",
       " 'datas\\\\red iron\\\\2189.jpg',\n",
       " 'datas\\\\red iron\\\\2190.jpg',\n",
       " 'datas\\\\red iron\\\\2191.jpg',\n",
       " 'datas\\\\red iron\\\\2192.jpg',\n",
       " 'datas\\\\red iron\\\\2193.jpg',\n",
       " 'datas\\\\red iron\\\\2194.jpg',\n",
       " 'datas\\\\red iron\\\\2195.jpg',\n",
       " 'datas\\\\red iron\\\\2196.jpg',\n",
       " 'datas\\\\red iron\\\\2197.jpg',\n",
       " 'datas\\\\red iron\\\\2198.jpg',\n",
       " 'datas\\\\red iron\\\\2199.jpg',\n",
       " 'datas\\\\red iron\\\\2200.jpg',\n",
       " 'datas\\\\red iron\\\\2201.jpg',\n",
       " 'datas\\\\red iron\\\\2202.jpg',\n",
       " 'datas\\\\red iron\\\\2203.jpg',\n",
       " 'datas\\\\red iron\\\\2204.jpg',\n",
       " 'datas\\\\red iron\\\\2205.jpg',\n",
       " 'datas\\\\red iron\\\\2206.jpg',\n",
       " 'datas\\\\red iron\\\\2207.jpg',\n",
       " 'datas\\\\red iron\\\\2208.jpg',\n",
       " 'datas\\\\red iron\\\\2209.jpg',\n",
       " 'datas\\\\red iron\\\\2210.jpg',\n",
       " 'datas\\\\red iron\\\\2211.jpg',\n",
       " 'datas\\\\red iron\\\\2212.jpg',\n",
       " 'datas\\\\red iron\\\\2213.jpg',\n",
       " 'datas\\\\red iron\\\\2214.jpg',\n",
       " 'datas\\\\red iron\\\\2215.jpg',\n",
       " 'datas\\\\red iron\\\\2216.jpg',\n",
       " 'datas\\\\red iron\\\\2217.jpg',\n",
       " 'datas\\\\red iron\\\\2218.jpg',\n",
       " 'datas\\\\red iron\\\\2219.jpg',\n",
       " 'datas\\\\red iron\\\\2220.jpg',\n",
       " 'datas\\\\red iron\\\\2221.jpg',\n",
       " 'datas\\\\red iron\\\\2222.jpg',\n",
       " 'datas\\\\red iron\\\\2223.jpg',\n",
       " 'datas\\\\red iron\\\\2224.jpg',\n",
       " 'datas\\\\red iron\\\\2225.jpg',\n",
       " 'datas\\\\red iron\\\\2226.jpg',\n",
       " 'datas\\\\red iron\\\\2227.jpg',\n",
       " 'datas\\\\red iron\\\\2228.jpg',\n",
       " 'datas\\\\red iron\\\\2229.jpg',\n",
       " 'datas\\\\red iron\\\\2230.jpg',\n",
       " 'datas\\\\red iron\\\\2231.jpg',\n",
       " 'datas\\\\red iron\\\\2232.jpg',\n",
       " 'datas\\\\red iron\\\\2233.jpg',\n",
       " 'datas\\\\red iron\\\\2234.jpg',\n",
       " 'datas\\\\red iron\\\\2235.jpg',\n",
       " 'datas\\\\red iron\\\\2236.jpg',\n",
       " 'datas\\\\red iron\\\\2237.jpg',\n",
       " 'datas\\\\red iron\\\\2238.jpg',\n",
       " 'datas\\\\red iron\\\\2239.jpg',\n",
       " 'datas\\\\red iron\\\\2240.jpg',\n",
       " 'datas\\\\red iron\\\\2241.jpg',\n",
       " 'datas\\\\red iron\\\\2242.jpg',\n",
       " 'datas\\\\red iron\\\\2243.jpg',\n",
       " 'datas\\\\red iron\\\\2244.jpg',\n",
       " 'datas\\\\red iron\\\\2245.jpg',\n",
       " 'datas\\\\red iron\\\\2246.jpg',\n",
       " 'datas\\\\red iron\\\\2247.jpg',\n",
       " 'datas\\\\red iron\\\\2248.jpg',\n",
       " 'datas\\\\red iron\\\\2249.jpg',\n",
       " 'datas\\\\red iron\\\\2250.jpg',\n",
       " 'datas\\\\red iron\\\\2251.jpg',\n",
       " 'datas\\\\red iron\\\\2252.jpg',\n",
       " 'datas\\\\red iron\\\\2253.jpg',\n",
       " 'datas\\\\red iron\\\\2254.jpg',\n",
       " 'datas\\\\red iron\\\\2255.jpg',\n",
       " 'datas\\\\red iron\\\\2256.jpg',\n",
       " 'datas\\\\red iron\\\\2257.jpg',\n",
       " 'datas\\\\red iron\\\\2258.jpg',\n",
       " 'datas\\\\red iron\\\\2259.jpg',\n",
       " 'datas\\\\red iron\\\\2260.jpg',\n",
       " 'datas\\\\red iron\\\\2261.jpg',\n",
       " 'datas\\\\red iron\\\\2262.jpg',\n",
       " 'datas\\\\red iron\\\\2263.jpg',\n",
       " 'datas\\\\red iron\\\\2264.jpg',\n",
       " 'datas\\\\red iron\\\\2265.jpg',\n",
       " 'datas\\\\red iron\\\\2266.jpg',\n",
       " 'datas\\\\red iron\\\\2267.jpg',\n",
       " 'datas\\\\red iron\\\\2268.jpg',\n",
       " 'datas\\\\red iron\\\\2269.jpg',\n",
       " 'datas\\\\red iron\\\\2270.jpg',\n",
       " 'datas\\\\red iron\\\\2271.jpg',\n",
       " 'datas\\\\red iron\\\\2272.jpg',\n",
       " 'datas\\\\red iron\\\\2273.jpg',\n",
       " 'datas\\\\red iron\\\\2274.jpg',\n",
       " 'datas\\\\red iron\\\\2275.jpg',\n",
       " 'datas\\\\red iron\\\\2276.jpg',\n",
       " 'datas\\\\red iron\\\\2277.jpg',\n",
       " 'datas\\\\red iron\\\\2278.jpg',\n",
       " 'datas\\\\red iron\\\\2279.jpg',\n",
       " 'datas\\\\red iron\\\\2280.jpg',\n",
       " 'datas\\\\red iron\\\\2281.jpg',\n",
       " 'datas\\\\red iron\\\\2282.jpg',\n",
       " 'datas\\\\red iron\\\\2283.jpg',\n",
       " 'datas\\\\red iron\\\\2284.jpg',\n",
       " 'datas\\\\red iron\\\\2285.jpg',\n",
       " 'datas\\\\red iron\\\\2286.jpg',\n",
       " 'datas\\\\red iron\\\\2287.jpg',\n",
       " 'datas\\\\red iron\\\\2288.jpg',\n",
       " 'datas\\\\red iron\\\\2289.jpg',\n",
       " 'datas\\\\red iron\\\\2290.jpg',\n",
       " 'datas\\\\red iron\\\\2291.jpg',\n",
       " 'datas\\\\red iron\\\\2292.jpg',\n",
       " 'datas\\\\red iron\\\\2293.jpg',\n",
       " 'datas\\\\red iron\\\\2294.jpg',\n",
       " 'datas\\\\red iron\\\\2295.jpg',\n",
       " 'datas\\\\red iron\\\\2296.jpg',\n",
       " 'datas\\\\red iron\\\\2297.jpg',\n",
       " 'datas\\\\red iron\\\\2298.jpg',\n",
       " 'datas\\\\red iron\\\\2299.jpg',\n",
       " 'datas\\\\red iron\\\\2300.jpg',\n",
       " 'datas\\\\red iron\\\\2301.jpg',\n",
       " 'datas\\\\red iron\\\\2302.jpg',\n",
       " 'datas\\\\red iron\\\\2303.jpg',\n",
       " 'datas\\\\red iron\\\\2304.jpg',\n",
       " 'datas\\\\red iron\\\\2305.jpg',\n",
       " 'datas\\\\red iron\\\\2306.jpg',\n",
       " 'datas\\\\red iron\\\\2307.jpg',\n",
       " 'datas\\\\red iron\\\\2308.jpg',\n",
       " 'datas\\\\red iron\\\\2309.jpg',\n",
       " 'datas\\\\red iron\\\\2310.jpg',\n",
       " 'datas\\\\red iron\\\\2311.jpg',\n",
       " 'datas\\\\red iron\\\\2312.jpg',\n",
       " 'datas\\\\red iron\\\\2313.jpg',\n",
       " 'datas\\\\red iron\\\\2314.jpg',\n",
       " 'datas\\\\red iron\\\\2315.jpg',\n",
       " 'datas\\\\red iron\\\\2316.jpg',\n",
       " 'datas\\\\red iron\\\\2317.jpg',\n",
       " 'datas\\\\red iron\\\\2318.jpg',\n",
       " 'datas\\\\red iron\\\\2319.jpg',\n",
       " 'datas\\\\red iron\\\\2320.jpg',\n",
       " 'datas\\\\red iron\\\\2321.jpg',\n",
       " 'datas\\\\red iron\\\\2322.jpg',\n",
       " 'datas\\\\red iron\\\\2323.jpg',\n",
       " 'datas\\\\red iron\\\\2324.jpg',\n",
       " 'datas\\\\red iron\\\\2325.jpg',\n",
       " 'datas\\\\red iron\\\\2326.jpg',\n",
       " 'datas\\\\red iron\\\\2327.jpg',\n",
       " 'datas\\\\red iron\\\\2328.jpg',\n",
       " 'datas\\\\red iron\\\\2329.jpg',\n",
       " 'datas\\\\red iron\\\\2330.jpg',\n",
       " 'datas\\\\red iron\\\\2331.jpg',\n",
       " 'datas\\\\red iron\\\\2332.jpg',\n",
       " 'datas\\\\red iron\\\\2333.jpg',\n",
       " 'datas\\\\red iron\\\\2334.jpg',\n",
       " 'datas\\\\red iron\\\\2335.jpg',\n",
       " 'datas\\\\red iron\\\\2336.jpg',\n",
       " 'datas\\\\red iron\\\\2337.jpg',\n",
       " 'datas\\\\red iron\\\\2338.jpg',\n",
       " 'datas\\\\red iron\\\\2339.jpg',\n",
       " 'datas\\\\red iron\\\\2340.jpg',\n",
       " 'datas\\\\red iron\\\\2341.jpg',\n",
       " 'datas\\\\red iron\\\\2342.jpg',\n",
       " 'datas\\\\red iron\\\\2343.jpg',\n",
       " 'datas\\\\red iron\\\\2344.jpg',\n",
       " 'datas\\\\red iron\\\\2345.jpg',\n",
       " 'datas\\\\red iron\\\\2346.jpg',\n",
       " 'datas\\\\red iron\\\\2347.jpg',\n",
       " 'datas\\\\red iron\\\\2348.jpg',\n",
       " 'datas\\\\red iron\\\\2349.jpg',\n",
       " 'datas\\\\red iron\\\\2350.jpg',\n",
       " 'datas\\\\red iron\\\\2351.jpg',\n",
       " 'datas\\\\red iron\\\\2352.jpg',\n",
       " 'datas\\\\red iron\\\\2353.jpg',\n",
       " 'datas\\\\red iron\\\\2354.jpg',\n",
       " 'datas\\\\red iron\\\\2355.jpg',\n",
       " 'datas\\\\red iron\\\\2356.jpg',\n",
       " 'datas\\\\red iron\\\\2357.jpg',\n",
       " 'datas\\\\red iron\\\\2358.jpg',\n",
       " 'datas\\\\red iron\\\\2359.jpg',\n",
       " 'datas\\\\red iron\\\\2360.jpg',\n",
       " 'datas\\\\red iron\\\\2361.jpg',\n",
       " 'datas\\\\red iron\\\\2362.jpg',\n",
       " 'datas\\\\red iron\\\\2363.jpg',\n",
       " 'datas\\\\red iron\\\\2364.jpg',\n",
       " 'datas\\\\red iron\\\\2365.jpg',\n",
       " 'datas\\\\red iron\\\\2366.jpg',\n",
       " 'datas\\\\red iron\\\\2367.jpg',\n",
       " 'datas\\\\red iron\\\\2368.jpg',\n",
       " 'datas\\\\red iron\\\\2369.jpg',\n",
       " 'datas\\\\red iron\\\\2370.jpg',\n",
       " 'datas\\\\red iron\\\\2371.jpg',\n",
       " 'datas\\\\red iron\\\\2372.jpg',\n",
       " 'datas\\\\red iron\\\\2373.jpg',\n",
       " 'datas\\\\red iron\\\\2374.jpg',\n",
       " 'datas\\\\red iron\\\\2375.jpg',\n",
       " 'datas\\\\red iron\\\\2376.jpg',\n",
       " 'datas\\\\red iron\\\\2377.jpg',\n",
       " 'datas\\\\red iron\\\\2378.jpg',\n",
       " 'datas\\\\red iron\\\\2379.jpg',\n",
       " 'datas\\\\red iron\\\\2380.jpg',\n",
       " 'datas\\\\red iron\\\\2381.jpg',\n",
       " 'datas\\\\red iron\\\\2382.jpg',\n",
       " 'datas\\\\red iron\\\\2383.jpg',\n",
       " 'datas\\\\red iron\\\\2384.jpg',\n",
       " 'datas\\\\red iron\\\\2385.jpg',\n",
       " 'datas\\\\red iron\\\\2386.jpg',\n",
       " 'datas\\\\red iron\\\\2387.jpg',\n",
       " 'datas\\\\red iron\\\\2388.jpg',\n",
       " 'datas\\\\red iron\\\\2389.jpg',\n",
       " 'datas\\\\red iron\\\\2390.jpg',\n",
       " 'datas\\\\red iron\\\\2391.jpg',\n",
       " 'datas\\\\red iron\\\\2392.jpg',\n",
       " 'datas\\\\red iron\\\\2393.jpg',\n",
       " 'datas\\\\red iron\\\\2394.jpg',\n",
       " 'datas\\\\red iron\\\\2395.jpg',\n",
       " 'datas\\\\red iron\\\\2396.jpg',\n",
       " 'datas\\\\red iron\\\\2397.jpg',\n",
       " 'datas\\\\slag inclusion\\\\1001.jpg',\n",
       " 'datas\\\\slag inclusion\\\\1002.jpg',\n",
       " 'datas\\\\slag inclusion\\\\1003.jpg',\n",
       " 'datas\\\\slag inclusion\\\\1004.jpg',\n",
       " 'datas\\\\slag inclusion\\\\1005.jpg',\n",
       " 'datas\\\\slag inclusion\\\\1006.jpg',\n",
       " 'datas\\\\slag inclusion\\\\1007.jpg',\n",
       " 'datas\\\\slag inclusion\\\\1008.jpg',\n",
       " 'datas\\\\slag inclusion\\\\1009.jpg',\n",
       " 'datas\\\\slag inclusion\\\\1010.jpg',\n",
       " 'datas\\\\slag inclusion\\\\1011.jpg',\n",
       " 'datas\\\\slag inclusion\\\\1012.jpg',\n",
       " ...]"
      ]
     },
     "execution_count": 7,
     "metadata": {},
     "output_type": "execute_result"
    }
   ],
   "source": [
    "data_dir = mydf['directory'].values.tolist()\n",
    "data_dir"
   ]
  },
  {
   "cell_type": "code",
   "execution_count": 8,
   "id": "98d40f88",
   "metadata": {},
   "outputs": [],
   "source": [
    "def resize(directory):\n",
    "    image = cv2.imread(directory)\n",
    "    resized_image = cv2.resize(image, (224,224))\n",
    "    resized_image = resized_image /255.0\n",
    "    return resized_image\n"
   ]
  },
  {
   "cell_type": "code",
   "execution_count": 9,
   "id": "537c6d25-8dc6-493e-b2f0-9309696cce6c",
   "metadata": {},
   "outputs": [
    {
     "data": {
      "text/plain": [
       "(128, 128, 3)"
      ]
     },
     "execution_count": 9,
     "metadata": {},
     "output_type": "execute_result"
    }
   ],
   "source": [
    "image = cv2.imread('datas\\\\finishing roll printing\\\\6001.jpg') #numpy array\n",
    "image.shape"
   ]
  },
  {
   "cell_type": "code",
   "execution_count": 10,
   "id": "56d529c3-0337-4ff4-ba3a-4abff8e43a36",
   "metadata": {},
   "outputs": [],
   "source": [
    "x = []\n",
    "for i in data_dir:\n",
    "    x.append(resize(i))    \n",
    "x = np.array(x)"
   ]
  },
  {
   "cell_type": "code",
   "execution_count": 11,
   "id": "fe4e3604",
   "metadata": {},
   "outputs": [
    {
     "data": {
      "text/plain": [
       "(1360, 224, 224, 3)"
      ]
     },
     "execution_count": 11,
     "metadata": {},
     "output_type": "execute_result"
    }
   ],
   "source": [
    "x.shape"
   ]
  },
  {
   "cell_type": "code",
   "execution_count": 12,
   "id": "218053fa",
   "metadata": {},
   "outputs": [],
   "source": [
    "y = mydf['defect_ID']\n",
    "y = y.values.tolist()\n",
    "y = np.array(y)"
   ]
  },
  {
   "cell_type": "code",
   "execution_count": null,
   "id": "ad38aaf7-f014-4192-98a6-b29f6ef276f9",
   "metadata": {},
   "outputs": [],
   "source": []
  },
  {
   "cell_type": "markdown",
   "id": "5c62cb22-e16f-4ce7-8972-d4ee20e24d1f",
   "metadata": {},
   "source": [
    "# Split the data"
   ]
  },
  {
   "cell_type": "code",
   "execution_count": 13,
   "id": "13b7dd2c",
   "metadata": {},
   "outputs": [],
   "source": [
    "#split train, test and validation dataset (60%, 30%, 10%)\n",
    "x_train, x_temporary, y_train, y_temporary = train_test_split(x, y, test_size = 0.4, random_state = 42, stratify=y) \n",
    "x_val, x_test, y_val, y_test = train_test_split(x_temporary, y_temporary, test_size = 0.75, random_state = 42, stratify=y_temporary)\n"
   ]
  },
  {
   "cell_type": "markdown",
   "id": "f8348667-e496-4a7d-ab7e-97d9b37e8170",
   "metadata": {},
   "source": [
    "# Data augmentation"
   ]
  },
  {
   "cell_type": "code",
   "execution_count": 80,
   "id": "451ff7d6-7552-4417-99e9-a33e818f4b10",
   "metadata": {},
   "outputs": [],
   "source": [
    "def data_aug_lr(train_image):  #Reverse the order of elements along axis 1 left/right\n",
    "    aug_image = np.fliplr(train_image)\n",
    "    return aug_image\n",
    "    \n",
    "def data_aug_ud(train_image):   #Reverse the order of elements along axis 0 (up/down).\n",
    "    aug_image = np.flipud(train_image)\n",
    "    return aug_image\n",
    "\n",
    "def data_aug_lr_ud(train_image):\n",
    "    aug_image = np.fliplr(np.flipud(train_image))\n",
    "    return aug_image\n",
    "    "
   ]
  },
  {
   "cell_type": "code",
   "execution_count": 81,
   "id": "75d72a19-2028-4690-b98d-b54142a623da",
   "metadata": {},
   "outputs": [
    {
     "data": {
      "text/plain": [
       "<matplotlib.image.AxesImage at 0x22540129450>"
      ]
     },
     "execution_count": 81,
     "metadata": {},
     "output_type": "execute_result"
    },
    {
     "data": {
      "image/png": "[encoded data removed]",
      "text/plain": [
       "<Figure size 640x480 with 1 Axes>"
      ]
     },
     "metadata": {},
     "output_type": "display_data"
    }
   ],
   "source": [
    "plt.imshow(x_train[8])"
   ]
  },
  {
   "cell_type": "code",
   "execution_count": 82,
   "id": "c69fa304-eb02-4a68-9b9c-91d471ef2a3a",
   "metadata": {},
   "outputs": [
    {
     "data": {
      "text/plain": [
       "<matplotlib.image.AxesImage at 0x225401351e0>"
      ]
     },
     "execution_count": 82,
     "metadata": {},
     "output_type": "execute_result"
    },
    {
     "data": {
      "image/png": "[encoded data removed]",
      "text/plain": [
       "<Figure size 640x480 with 1 Axes>"
      ]
     },
     "metadata": {},
     "output_type": "display_data"
    }
   ],
   "source": [
    "\n",
    "plt.imshow(data_aug_lr(x_train[8]))"
   ]
  },
  {
   "cell_type": "code",
   "execution_count": 83,
   "id": "82d55970-40f4-4f44-a5d1-b0b331e7ebb4",
   "metadata": {},
   "outputs": [
    {
     "data": {
      "text/plain": [
       "<matplotlib.image.AxesImage at 0x2253fd6a170>"
      ]
     },
     "execution_count": 83,
     "metadata": {},
     "output_type": "execute_result"
    },
    {
     "data": {
      "image/png": "[encoded data removed]",
      "text/plain": [
       "<Figure size 640x480 with 1 Axes>"
      ]
     },
     "metadata": {},
     "output_type": "display_data"
    }
   ],
   "source": [
    "plt.imshow(data_aug_ud(x_train[8]))"
   ]
  },
  {
   "cell_type": "code",
   "execution_count": 84,
   "id": "42001d66-7771-4091-91a5-60d20a98ca87",
   "metadata": {},
   "outputs": [
    {
     "data": {
      "text/plain": [
       "<matplotlib.image.AxesImage at 0x2253fb46770>"
      ]
     },
     "execution_count": 84,
     "metadata": {},
     "output_type": "execute_result"
    },
    {
     "data": {
      "image/png": "[encoded data removed]",
      "text/plain": [
       "<Figure size 640x480 with 1 Axes>"
      ]
     },
     "metadata": {},
     "output_type": "display_data"
    }
   ],
   "source": [
    "plt.imshow(data_aug_lr_ud(x_train[8]))"
   ]
  },
  {
   "cell_type": "code",
   "execution_count": 19,
   "id": "da96a40a-c355-4faa-a357-e0063e84f843",
   "metadata": {},
   "outputs": [
    {
     "data": {
      "text/plain": [
       "(2451, 224, 224, 3)"
      ]
     },
     "execution_count": 19,
     "metadata": {},
     "output_type": "execute_result"
    }
   ],
   "source": [
    "\n",
    "a = data_aug_lr(x_train[0])\n",
    "b = data_aug_ud(x_train[0])\n",
    "c = data_aug_lr_ud(x_train[0])\n",
    "d = np.stack((a,b,c))\n",
    "\n",
    "\n",
    "x_aug = np.copy(d)\n",
    "y_counter = 0\n",
    "\n",
    "for i in x_train:\n",
    "   # if y_train[y_counter] in [0, 2, 3, 5, 9]:\n",
    "        a = data_aug_lr(i)\n",
    "        b = data_aug_ud(i)\n",
    "        c = data_aug_lr_ud(i)\n",
    "        d = np.stack((a,b,c))\n",
    "        x_aug = np.vstack((x_aug,d))\n",
    "     #   y_counter = y_counter + 1\n",
    "    #else:\n",
    "      #  y_counter = y_counter + 1\n",
    "x_aug.shape\n"
   ]
  },
  {
   "cell_type": "code",
   "execution_count": 20,
   "id": "907f9c83-7c11-4ef7-8974-b694b92513f6",
   "metadata": {},
   "outputs": [],
   "source": [
    "\n",
    "x_aug = x_aug[3:] #three first rows was built to code work\n"
   ]
  },
  {
   "cell_type": "code",
   "execution_count": 21,
   "id": "d4e4885b-be20-4745-9a98-06d097e49f8c",
   "metadata": {},
   "outputs": [
    {
     "data": {
      "text/plain": [
       "(2448, 224, 224, 3)"
      ]
     },
     "execution_count": 21,
     "metadata": {},
     "output_type": "execute_result"
    }
   ],
   "source": [
    "x_aug.shape"
   ]
  },
  {
   "cell_type": "code",
   "execution_count": 22,
   "id": "c2f86703-8a2b-489d-beaf-6b4842fa3a69",
   "metadata": {},
   "outputs": [
    {
     "name": "stdout",
     "output_type": "stream",
     "text": [
      "4\n"
     ]
    }
   ],
   "source": [
    "y_counter = 0\n",
    "\n",
    "y_aug = np.copy(y_train[0])\n",
    "print(y_aug)\n",
    "for j in y_train:\n",
    "   # if y_train[y_counter] in [0, 2, 3, 5, 9]:\n",
    "        v = np.copy(j)\n",
    "        s = np.vstack((v,v,v))\n",
    "        y_aug = np.vstack((y_aug,s))\n",
    "    #    y_counter = y_counter + 1\n",
    "   # else:\n",
    "     #   y_counter = y_counter + 1"
   ]
  },
  {
   "cell_type": "code",
   "execution_count": 23,
   "id": "dbc68dec-6eb8-4860-947a-a575bd4c59e5",
   "metadata": {},
   "outputs": [],
   "source": [
    "y_aug = y_aug[1:] #first row was built to code work\n"
   ]
  },
  {
   "cell_type": "code",
   "execution_count": 24,
   "id": "88303c14-a8fe-4cc2-815c-f082dd115d62",
   "metadata": {},
   "outputs": [
    {
     "data": {
      "text/plain": [
       "(2448, 1)"
      ]
     },
     "execution_count": 24,
     "metadata": {},
     "output_type": "execute_result"
    }
   ],
   "source": [
    "y_aug.shape"
   ]
  },
  {
   "cell_type": "code",
   "execution_count": 25,
   "id": "8c61955c-7a46-43c1-9ca5-e2bf997d4a01",
   "metadata": {},
   "outputs": [],
   "source": [
    "y_train = y_train.reshape(len(y_train),1)"
   ]
  },
  {
   "cell_type": "code",
   "execution_count": 26,
   "id": "f95b871a-ab9c-4080-b26b-60e11fdc5cb7",
   "metadata": {},
   "outputs": [],
   "source": [
    "y_train = np.vstack((y_train,y_aug))"
   ]
  },
  {
   "cell_type": "code",
   "execution_count": 27,
   "id": "6d4eced6-6520-4af9-a242-6356f74bde7e",
   "metadata": {},
   "outputs": [],
   "source": [
    "x_train = np.vstack((x_train,x_aug))"
   ]
  },
  {
   "cell_type": "code",
   "execution_count": 28,
   "id": "71e80a86-94b1-48ae-be9f-3f6e60d1029b",
   "metadata": {},
   "outputs": [
    {
     "data": {
      "text/plain": [
       "(3264, 224, 224, 3)"
      ]
     },
     "execution_count": 28,
     "metadata": {},
     "output_type": "execute_result"
    }
   ],
   "source": [
    "x_train.shape"
   ]
  },
  {
   "cell_type": "code",
   "execution_count": 29,
   "id": "7f9a2183-371b-44e8-ac9f-9071ccdee4de",
   "metadata": {},
   "outputs": [
    {
     "data": {
      "text/plain": [
       "array([[4],\n",
       "       [0],\n",
       "       [4],\n",
       "       ...,\n",
       "       [5],\n",
       "       [5],\n",
       "       [5]])"
      ]
     },
     "execution_count": 29,
     "metadata": {},
     "output_type": "execute_result"
    }
   ],
   "source": [
    "y_train"
   ]
  },
  {
   "cell_type": "markdown",
   "id": "a13ccb93-0096-4f30-9cb2-8900ebe7beec",
   "metadata": {},
   "source": [
    "# Model"
   ]
  },
  {
   "cell_type": "code",
   "execution_count": 50,
   "id": "3443cc45-0763-428c-8f8d-cdc0df005f97",
   "metadata": {},
   "outputs": [],
   "source": [
    "#Early stopping\n",
    "callback = tf.keras.callbacks.EarlyStopping(monitor='val_loss', patience = 3)"
   ]
  },
  {
   "cell_type": "code",
   "execution_count": 51,
   "id": "007da318",
   "metadata": {},
   "outputs": [],
   "source": [
    "ResNet = tf.keras.applications.ResNet50V2(input_shape = (224, 224, 3), include_top=False, weights = \"imagenet\")\n",
    "ResNet.trainable = False "
   ]
  },
  {
   "cell_type": "code",
   "execution_count": 52,
   "id": "b6dc5b4d",
   "metadata": {},
   "outputs": [],
   "source": [
    "model = models.Sequential([\n",
    "    ResNet,\n",
    "    layers.GlobalAveragePooling2D(),\n",
    "    layers.Flatten(),\n",
    "    layers.Dense(512, activation='relu'),\n",
    "    \n",
    "  \n",
    "    layers.Dense(7, activation='softmax')\n",
    "])"
   ]
  },
  {
   "cell_type": "code",
   "execution_count": 53,
   "id": "1098a470-f98f-45d0-a66c-7640d586f88d",
   "metadata": {},
   "outputs": [],
   "source": [
    "model.compile(optimizer=Adam(learning_rate=0.001),\n",
    "              loss='sparse_categorical_crossentropy',\n",
    "              metrics=['accuracy'])\n"
   ]
  },
  {
   "cell_type": "code",
   "execution_count": 54,
   "id": "7d3b23a3-f650-42dc-a8ab-10e0ef3a2ce5",
   "metadata": {
    "scrolled": true
   },
   "outputs": [
    {
     "data": {
      "text/plain": [
       "{0: 0.955503512880562,\n",
       " 1: 1.5968688845401173,\n",
       " 2: 3.0676691729323307,\n",
       " 3: 0.955503512880562,\n",
       " 4: 0.4897959183673469,\n",
       " 5: 0.8151848151848152,\n",
       " 6: 1.457142857142857}"
      ]
     },
     "execution_count": 54,
     "metadata": {},
     "output_type": "execute_result"
    }
   ],
   "source": [
    "\n",
    "unique, counts = np.unique(y_train, return_counts = True)\n",
    "total_samples = len(y_train)\n",
    "class_weights = {}\n",
    "for class_label, class_count in zip(unique, counts):\n",
    "    class_weight = total_samples / (7 * class_count)\n",
    "    class_weights[class_label] = class_weight \n",
    "class_weights\n"
   ]
  },
  {
   "cell_type": "code",
   "execution_count": 55,
   "id": "8684abdd-3187-4b1a-8f9c-b1240b3dadc0",
   "metadata": {},
   "outputs": [
    {
     "name": "stdout",
     "output_type": "stream",
     "text": [
      "Epoch 1/100\n",
      "26/26 [==============================] - 9s 240ms/step - loss: 0.3573 - accuracy: 0.8845 - val_loss: 0.1006 - val_accuracy: 0.9706\n",
      "Epoch 2/100\n",
      "26/26 [==============================] - 5s 203ms/step - loss: 0.0407 - accuracy: 0.9874 - val_loss: 0.0927 - val_accuracy: 0.9853\n",
      "Epoch 3/100\n",
      "26/26 [==============================] - 5s 204ms/step - loss: 0.0182 - accuracy: 0.9975 - val_loss: 0.0884 - val_accuracy: 0.9706\n",
      "Epoch 4/100\n",
      "26/26 [==============================] - 5s 205ms/step - loss: 0.0105 - accuracy: 0.9994 - val_loss: 0.0896 - val_accuracy: 0.9706\n",
      "Epoch 5/100\n",
      "26/26 [==============================] - 5s 204ms/step - loss: 0.0069 - accuracy: 1.0000 - val_loss: 0.0851 - val_accuracy: 0.9706\n",
      "Epoch 6/100\n",
      "26/26 [==============================] - 5s 204ms/step - loss: 0.0051 - accuracy: 1.0000 - val_loss: 0.0899 - val_accuracy: 0.9706\n",
      "Epoch 7/100\n",
      "26/26 [==============================] - 5s 204ms/step - loss: 0.0040 - accuracy: 1.0000 - val_loss: 0.0878 - val_accuracy: 0.9706\n",
      "Epoch 8/100\n",
      "26/26 [==============================] - 5s 204ms/step - loss: 0.0030 - accuracy: 1.0000 - val_loss: 0.0935 - val_accuracy: 0.9706\n"
     ]
    }
   ],
   "source": [
    "history = model.fit(x_train, y_train, epochs=100, batch_size = 128, validation_data = (x_val, y_val), callbacks = callback, class_weight = class_weights)"
   ]
  },
  {
   "cell_type": "code",
   "execution_count": 58,
   "id": "937768a3-1763-442c-b1ef-bbf6f5e97ccf",
   "metadata": {},
   "outputs": [
    {
     "name": "stdout",
     "output_type": "stream",
     "text": [
      "13/13 [==============================] - 1s 58ms/step - loss: 0.0629 - accuracy: 0.9853\n"
     ]
    }
   ],
   "source": [
    "loss, accuracy = model.evaluate(x_test, y_test)"
   ]
  },
  {
   "cell_type": "code",
   "execution_count": 59,
   "id": "0bb60028-16e1-45ee-9e71-3080224bfdee",
   "metadata": {},
   "outputs": [
    {
     "data": {
      "text/plain": [
       "0.9852941036224365"
      ]
     },
     "execution_count": 59,
     "metadata": {},
     "output_type": "execute_result"
    }
   ],
   "source": [
    "accuracy"
   ]
  },
  {
   "cell_type": "code",
   "execution_count": 60,
   "id": "68c7555d-dd45-4231-bcf9-cd5f242c4e0b",
   "metadata": {},
   "outputs": [
    {
     "data": {
      "text/plain": [
       "0.06287533789873123"
      ]
     },
     "execution_count": 60,
     "metadata": {},
     "output_type": "execute_result"
    }
   ],
   "source": [
    "loss"
   ]
  },
  {
   "cell_type": "code",
   "execution_count": 61,
   "id": "bb2e9c56-a351-459c-a94f-aa55687aaffe",
   "metadata": {},
   "outputs": [
    {
     "name": "stdout",
     "output_type": "stream",
     "text": [
      "13/13 [==============================] - 1s 53ms/step\n"
     ]
    }
   ],
   "source": [
    "predictions = model.predict(x_test)"
   ]
  },
  {
   "cell_type": "code",
   "execution_count": 62,
   "id": "4a62cfc9-2cea-4f76-8fd3-daa78956c90e",
   "metadata": {},
   "outputs": [
    {
     "data": {
      "text/plain": [
       "(408, 7)"
      ]
     },
     "execution_count": 62,
     "metadata": {},
     "output_type": "execute_result"
    }
   ],
   "source": [
    "predictions.shape"
   ]
  },
  {
   "cell_type": "code",
   "execution_count": 63,
   "id": "154c0d32-066e-4211-a188-f220ad76db63",
   "metadata": {},
   "outputs": [
    {
     "data": {
      "text/plain": [
       "1.0"
      ]
     },
     "execution_count": 63,
     "metadata": {},
     "output_type": "execute_result"
    }
   ],
   "source": [
    "y_pred = np.array([])\n",
    "for i in predictions:\n",
    "    max_for_each_image = np.array(np.array(i).argmax()) #position of max value; predicted y\n",
    "    y_pred = np.append(y_pred, max_for_each_image)\n",
    "y_pred[0]"
   ]
  },
  {
   "cell_type": "code",
   "execution_count": 64,
   "id": "738f4618-30ec-49dc-b3e4-800a20e789c1",
   "metadata": {},
   "outputs": [],
   "source": [
    "cm = confusion_matrix(y_test, y_pred)"
   ]
  },
  {
   "cell_type": "code",
   "execution_count": 65,
   "id": "5e264d0a-d2bf-4097-90e9-01b749a2192b",
   "metadata": {},
   "outputs": [
    {
     "data": {
      "text/plain": [
       "array([[ 61,   0,   0,   0,   0,   0,   0],\n",
       "       [  1,  34,   0,   0,   0,   2,   0],\n",
       "       [  0,   0,  19,   0,   0,   0,   0],\n",
       "       [  0,   1,   0,  60,   0,   0,   0],\n",
       "       [  0,   0,   1,   0, 118,   0,   0],\n",
       "       [  0,   1,   0,   0,   0,  70,   0],\n",
       "       [  0,   0,   0,   0,   0,   0,  40]], dtype=int64)"
      ]
     },
     "execution_count": 65,
     "metadata": {},
     "output_type": "execute_result"
    }
   ],
   "source": [
    "cm\n"
   ]
  },
  {
   "cell_type": "code",
   "execution_count": 66,
   "id": "100a5adb-02eb-43bc-85cc-f95935421b34",
   "metadata": {},
   "outputs": [],
   "source": [
    "dict_defect_ID = {\n",
    "  \"Ro\": 0,\n",
    "  \"Ir\": 1,\n",
    "  \"Op\": 2,\n",
    "  \"Ot\": 3,\n",
    "  \"Re\": 4,\n",
    "  \"In\": 5,\n",
    "  \"Sc\": 6,\n",
    "\n",
    "}"
   ]
  },
  {
   "cell_type": "code",
   "execution_count": 67,
   "id": "b8f0df0f-2e83-4aa8-a4e4-15361e95f455",
   "metadata": {},
   "outputs": [],
   "source": [
    "#multilabel_confusion_matrix(y_test, y_pred)"
   ]
  },
  {
   "cell_type": "code",
   "execution_count": 68,
   "id": "73eb6932-3140-4784-b650-5d914ca5e211",
   "metadata": {},
   "outputs": [],
   "source": [
    "disp = ConfusionMatrixDisplay(confusion_matrix = cm, display_labels = dict_defect_ID)"
   ]
  },
  {
   "cell_type": "code",
   "execution_count": 69,
   "id": "68308300-225e-4165-ab17-9e8dce0871db",
   "metadata": {},
   "outputs": [
    {
     "data": {
      "text/plain": [
       "<sklearn.metrics._plot.confusion_matrix.ConfusionMatrixDisplay at 0x22686f231c0>"
      ]
     },
     "execution_count": 69,
     "metadata": {},
     "output_type": "execute_result"
    },
    {
     "data": {
      "image/png": "[encoded data removed]",
      "text/plain": [
       "<Figure size 640x480 with 2 Axes>"
      ]
     },
     "metadata": {},
     "output_type": "display_data"
    }
   ],
   "source": [
    "disp.plot()"
   ]
  },
  {
   "cell_type": "code",
   "execution_count": 70,
   "id": "492cd6b6-0acb-48a0-b6c7-ce84e660cfd0",
   "metadata": {},
   "outputs": [],
   "source": [
    "disp_normalized = ConfusionMatrixDisplay(confusion_matrix = np.round(cm/np.sum(cm, axis = 1).reshape(-1, 1), 2), display_labels = dict_defect_ID)"
   ]
  },
  {
   "cell_type": "code",
   "execution_count": 71,
   "id": "3ac82032-74fb-498c-81c3-85b30e33eeec",
   "metadata": {},
   "outputs": [
    {
     "data": {
      "text/plain": [
       "<sklearn.metrics._plot.confusion_matrix.ConfusionMatrixDisplay at 0x22687ff5240>"
      ]
     },
     "execution_count": 71,
     "metadata": {},
     "output_type": "execute_result"
    },
    {
     "data": {
      "image/png": "[encoded data removed]",
      "text/plain": [
       "<Figure size 640x480 with 2 Axes>"
      ]
     },
     "metadata": {},
     "output_type": "display_data"
    }
   ],
   "source": [
    "disp_normalized.plot()"
   ]
  },
  {
   "cell_type": "code",
   "execution_count": null,
   "id": "2fd84d5a-8e5e-40d0-a7a8-949dee2163e2",
   "metadata": {},
   "outputs": [],
   "source": []
  },
  {
   "cell_type": "code",
   "execution_count": null,
   "id": "2834187c-2c4c-4ff0-be2b-59f526157266",
   "metadata": {},
   "outputs": [],
   "source": []
  },
  {
   "cell_type": "code",
   "execution_count": null,
   "id": "5d0f7220-224d-4ea8-b018-160d3c2fb056",
   "metadata": {},
   "outputs": [],
   "source": []
  }
 ],
 "metadata": {
  "kernelspec": {
   "display_name": "Python 3 (ipykernel)",
   "language": "python",
   "name": "python3"
  },
  "language_info": {
   "codemirror_mode": {
    "name": "ipython",
    "version": 3
   },
   "file_extension": ".py",
   "mimetype": "text/x-python",
   "name": "python",
   "nbconvert_exporter": "python",
   "pygments_lexer": "ipython3",
   "version": "3.10.13"
  }
 },
 "nbformat": 4,
 "nbformat_minor": 5
}
